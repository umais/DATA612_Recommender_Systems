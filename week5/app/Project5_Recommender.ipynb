{
  "cells": [
    {
      "cell_type": "markdown",
      "id": "c3b714fb",
      "metadata": {
        "id": "c3b714fb"
      },
      "source": [
        "# **DATA 612 Project 5 | Implementing a Recommender System on Spark**\n",
        "**Name:** Umais Siddiqui  \n",
        "**Class:** Data 612 - Recommender Systems  \n",
        "**Github Link:** https://github.com/umais/DATA612_Recommender_Systems/blob/master/Week5/app/Project5_Recommender.ipynb\n",
        "\n",
        "---\n",
        "\n",
        "# **Introduction**\n",
        "This notebook demonstrates building a recommendation system using PySpark's ALS (Alternating Least Squares) algorithm. The project covers data loading, preprocessing, model training, evaluation, and baseline comparison.\n"
      ]
    },
    {
      "cell_type": "markdown",
      "id": "pQsQf30nABFZ",
      "metadata": {
        "id": "pQsQf30nABFZ"
      },
      "source": [
        "# **Setup Using Docker:**\n",
        "\n",
        "\n",
        "I setup this Jupyter Notebook in a Docker container to ensure a reproducible and isolated environment. The Docker setup typically includes:\n",
        "\n",
        "- A base image like jupyter/pyspark-notebook, which comes preinstalled with Spark, Python, and Jupyter.\n",
        "\n",
        "- A Dockerfile or docker-compose.yml to define dependencies and expose ports (e.g., 8888 for Jupyter).\n",
        "\n",
        "- Mounted volumes to persist notebooks and data outside the container.\n",
        "\n",
        "- Optional configuration to allocate memory and cores for Spark inside the container.\n",
        "\n",
        "**Importance of Spark:**\n",
        "\n",
        "Apache Spark is critical for processing large-scale data efficiently. In this notebook:\n",
        "\n",
        "- Spark’s distributed computing engine allows handling datasets that would otherwise exceed local memory.\n",
        "\n",
        "- The ALS algorithm (Alternating Least Squares) from Spark MLlib is used for collaborative filtering, enabling personalized recommendations.\n",
        "\n",
        "- Spark DataFrames and transformations make it easy to clean, manipulate, and pipeline large data efficiently before modeling.\n",
        "\n",
        "Using Spark inside Docker provides scalability, portability, and consistency across environments essential for building robust data science workflows."
      ]
    },
    {
      "cell_type": "code",
      "execution_count": null,
      "id": "246a8f50",
      "metadata": {
        "id": "246a8f50"
      },
      "outputs": [],
      "source": [
        "from pyspark.sql import SparkSession\n",
        "from pyspark.ml.evaluation import RegressionEvaluator\n",
        "from pyspark.ml.recommendation import ALS\n",
        "import matplotlib.pyplot as plt\n",
        "import pandas as pd\n",
        "from pyspark.sql.functions import col\n",
        "from sklearn.metrics import mean_squared_error\n",
        "import numpy as np\n"
      ]
    },
    {
      "cell_type": "markdown",
      "id": "0bd9268e",
      "metadata": {
        "id": "0bd9268e"
      },
      "source": [
        "## Setup Spark Session and Environment\n",
        "PySpark is a Python API for Spark, a distributed data processing engine. ALS is used here for matrix factorization in collaborative filtering recommendation.\n"
      ]
    },
    {
      "cell_type": "code",
      "execution_count": null,
      "id": "1e84e6c6",
      "metadata": {
        "id": "1e84e6c6"
      },
      "outputs": [],
      "source": [
        "# Initialize Spark session\n",
        "spark = SparkSession.builder.appName(\"Data612Project5\").getOrCreate()"
      ]
    },
    {
      "cell_type": "markdown",
      "id": "5533bc7f",
      "metadata": {
        "id": "5533bc7f"
      },
      "source": [
        "## Load and Explore Data\n",
        "Load the ratings data from CSV, inspect schema and data preview."
      ]
    },
    {
      "cell_type": "code",
      "execution_count": null,
      "id": "4a0c9504",
      "metadata": {
        "id": "4a0c9504",
        "outputId": "496dcdf3-59ba-431c-cf53-dfb3cc3350c2"
      },
      "outputs": [
        {
          "name": "stderr",
          "output_type": "stream",
          "text": [
            "\r\n",
            "                                                                                \r"
          ]
        },
        {
          "name": "stdout",
          "output_type": "stream",
          "text": [
            "Schema before casting:\n",
            "root\n",
            " |-- user_id: string (nullable = true)\n",
            " |-- hotel_id: string (nullable = true)\n",
            " |-- overall: string (nullable = true)\n",
            "\n",
            "+--------------------+--------------------+-------+\n",
            "|             user_id|            hotel_id|overall|\n",
            "+--------------------+--------------------+-------+\n",
            "|2262DCBFC351F42A9...|           127781101|    5.0|\n",
            "|         __label__en|                 204|   null|\n",
            "|8477E11DABF4D6743...|           137380592|    5.0|\n",
            "| a bartender in t...| from the doormen...|    621|\n",
            "|483A193B7113ADFFD...|           129673371|   null|\n",
            "+--------------------+--------------------+-------+\n",
            "only showing top 5 rows\n",
            "\n"
          ]
        },
        {
          "name": "stderr",
          "output_type": "stream",
          "text": [
            "\r\n",
            "[Stage 14:>                                                         (0 + 8) / 8]\r"
          ]
        },
        {
          "name": "stdout",
          "output_type": "stream",
          "text": [
            "Total ratings: 962266\n"
          ]
        },
        {
          "name": "stderr",
          "output_type": "stream",
          "text": [
            "\r\n",
            "                                                                                \r"
          ]
        }
      ],
      "source": [
        "data_path = \"/data/data.csv\"\n",
        "ratings_df = spark.read.csv(data_path, header=True, inferSchema=False)\n",
        "ratings_df = ratings_df.select(\"user_id\", \"hotel_id\", \"overall\")\n",
        "print(\"Schema before casting:\")\n",
        "ratings_df.printSchema()\n",
        "ratings_df.show(5)\n",
        "print(f\"Total ratings: {ratings_df.count()}\")"
      ]
    },
    {
      "cell_type": "markdown",
      "id": "pwUAvJPuIkko",
      "metadata": {
        "id": "pwUAvJPuIkko"
      },
      "source": [
        "This block of code above initializes the recommender system pipeline by loading a CSV dataset containing user-hotel ratings into a Spark DataFrame. It specifies the file path, reads the data with headers while disabling automatic type inference (treating all columns as strings initially), and selects only the relevant columns: user_id, hotel_id, and overall. The schema is printed to confirm data types before any transformations, and a sample of the data is shown for verification. Finally, it prints the total number of rating records. This setup step is essential to ensure clean, structured data input before casting data types or training a model with Spark."
      ]
    },
    {
      "cell_type": "markdown",
      "id": "158acdd0",
      "metadata": {
        "id": "158acdd0"
      },
      "source": [
        "## **Data Type Correction**\n",
        "Cast user_id, hotel_id to integer and overall to float (ALS requires numeric types)."
      ]
    },
    {
      "cell_type": "code",
      "execution_count": null,
      "id": "3720247a",
      "metadata": {
        "id": "3720247a",
        "outputId": "a5788f76-048e-43e3-b5b9-be233cc17e51"
      },
      "outputs": [
        {
          "name": "stdout",
          "output_type": "stream",
          "text": [
            "Schema after casting:\n",
            "root\n",
            " |-- user_id: integer (nullable = true)\n",
            " |-- hotel_id: integer (nullable = true)\n",
            " |-- overall: float (nullable = true)\n",
            "\n"
          ]
        }
      ],
      "source": [
        "ratings_df = ratings_df.withColumn(\"user_id\", col(\"user_id\").cast(\"integer\")) \\\n",
        "                     .withColumn(\"hotel_id\", col(\"hotel_id\").cast(\"integer\")) \\\n",
        "                     .withColumn(\"overall\", col(\"overall\").cast(\"float\"))\n",
        "print(\"Schema after casting:\")\n",
        "ratings_df.printSchema()"
      ]
    },
    {
      "cell_type": "markdown",
      "id": "305c6c80",
      "metadata": {
        "id": "305c6c80"
      },
      "source": [
        "## **Train-Test Split**"
      ]
    },
    {
      "cell_type": "code",
      "execution_count": null,
      "id": "be8146c2",
      "metadata": {
        "id": "be8146c2",
        "outputId": "55e7ff8d-930e-476c-b2e9-18ba70dd02f9"
      },
      "outputs": [
        {
          "name": "stderr",
          "output_type": "stream",
          "text": [
            "[Stage 20:>                                                         (0 + 8) / 8]\r"
          ]
        },
        {
          "name": "stdout",
          "output_type": "stream",
          "text": [
            "Train count: 770048, Test count: 192218\n"
          ]
        },
        {
          "name": "stderr",
          "output_type": "stream",
          "text": [
            "\r\n",
            "[Stage 20:=======>                                                  (1 + 7) / 8]\r\n",
            "\r\n",
            "                                                                                \r"
          ]
        }
      ],
      "source": [
        "train, test = ratings_df.randomSplit([0.8, 0.2], seed=42)\n",
        "print(f\"Train count: {train.count()}, Test count: {test.count()}\")"
      ]
    },
    {
      "cell_type": "markdown",
      "id": "d611166f",
      "metadata": {
        "id": "d611166f"
      },
      "source": [
        "## **Train ALS Model**\n",
        "\n",
        "What happens practically:\n",
        "\n",
        "- Spark parallelizes the rating data (train) across worker nodes.\n",
        "\n",
        "- In each iteration: It computes the user or item latent factors by solving regularized least squares problems using Spark’s distributed linear algebra routines.\n",
        "\n",
        "- Cold start handling: Rows with missing users/items are dropped using the coldStartStrategy=\"drop\" to avoid NaN in predictions.\n",
        "\n",
        "- The resulting model contains two large DataFrames:\n",
        "\n",
        "    userFactors: user_id → vector of latent features\n",
        "\n",
        "    itemFactors: hotel_id → vector of latent features"
      ]
    },
    {
      "cell_type": "code",
      "execution_count": null,
      "id": "52e66cfa",
      "metadata": {
        "id": "52e66cfa",
        "outputId": "d00b198e-aa02-425a-864f-fcdb4b675d7f"
      },
      "outputs": [
        {
          "name": "stderr",
          "output_type": "stream",
          "text": [
            "25/07/02 02:13:51 WARN InstanceBuilder: Failed to load implementation from:dev.ludovic.netlib.blas.JNIBLAS\n",
            "25/07/02 02:13:51 WARN InstanceBuilder: Failed to load implementation from:dev.ludovic.netlib.blas.VectorBLAS\n"
          ]
        }
      ],
      "source": [
        "als = ALS(maxIter=10, regParam=0.1, userCol=\"user_id\", itemCol=\"hotel_id\", ratingCol=\"overall\",\n",
        "          coldStartStrategy=\"drop\", nonnegative=True, seed=42)\n",
        "train = train.dropna(subset=[\"user_id\", \"hotel_id\", \"overall\"])\n",
        "\n",
        "model = als.fit(train)"
      ]
    },
    {
      "cell_type": "markdown",
      "id": "WNHH_b6GGaiS",
      "metadata": {
        "id": "WNHH_b6GGaiS"
      },
      "source": [
        "# **What is ALS?**\n",
        "\n",
        "ALS stands for Alternating Least Squares, a matrix factorization algorithm used in collaborative filtering recommender systems. It works by decomposing the user-item interaction matrix (e.g., ratings) into low-rank user and item feature matrices. It's highly scalable and supported in Spark's MLlib.\n",
        "\n",
        "# **What Does Spark Enable That Allows the Implementation of ALS?**\n",
        "\n",
        "- Apache Spark provides distributed in-memory computing, which is critical for handling large-scale matrix factorization problems like ALS (Alternating Least Squares) in recommender systems. Specifically, Spark:\n",
        "\n",
        "- Distributes the data and computation across a cluster, enabling scalable training of ALS models on large user-item matrices.\n",
        "\n",
        "- Supports Resilient Distributed Datasets (RDDs) and DataFrames, which allow Spark to parallelize operations like matrix multiplication and updates across many nodes.\n",
        "\n",
        "- Includes MLlib, Spark’s machine learning library, which has an optimized ALS implementation that automatically parallelizes the factorization and iteration steps.\n",
        "\n",
        "- Without Spark, ALS would become impractical for datasets with millions of users or items due to memory and compute constraints on a single machine.\n",
        "\n",
        "# **High-Level: How Spark Executes ALS**\n",
        "\n",
        "At a high level, Spark executes ALS as follows:\n",
        "\n",
        "- Data Partitioning: The user-item ratings matrix is divided across the cluster.\n",
        "\n",
        "- Alternating Optimization: Spark fixes user latent factors and solves for item factors in parallel. Then it fixes item factors and solves for user factors.\n",
        "\n",
        "- Iterative Convergence: This alternating process continues for maxIter iterations or until convergence.\n",
        "\n",
        "- Caching & DAG Scheduling: Spark leverages DAG execution and in-memory caching to avoid redundant computation across iterations.\n",
        "\n",
        "- Cold Start Strategy: Spark automatically handles missing user-item pairs by dropping or predicting with default strategies.\n",
        "\n",
        "# **Parameter Breakdown:**\n",
        "\n",
        "- **maxIter=10:** Specifies the number of iterations to run the ALS optimization algorithm.More iterations can improve accuracy but increase training time.\n",
        "\n",
        "- **regParam=0.1:** This is the regularization parameter (lambda).\n",
        "Helps prevent overfitting by penalizing large feature weights.\n",
        "A smaller value allows more complexity, a larger value simplifies the model.\n",
        "\n",
        "- **userCol=\"user_id\"** Name of the column in your training DataFrame that represents user IDs.\n",
        "\n",
        "- **itemCol=\"hotel_id\"** Name of the column that represents item IDs (in this case, hotels).\n",
        "\n",
        "- **ratingCol=\"overall\"** Name of the column with rating values (e.g., 1–5 stars). This is the target variable the model tries to predict.\n",
        "\n",
        "- **coldStartStrategy=\"drop\"**\n",
        "When ALS generates predictions, there may be users/items in the test set that it hasn't seen during training (cold-start problem).\n",
        "drop ensures rows with NaN predictions are removed automatically to avoid errors during evaluation.\n",
        "\n",
        "- **nonnegative=True:** Constrains the user and item latent factors to be non-negative, which can improve interpretability and performance for some datasets.Useful when the ratings and relationships are expected to be positive.\n",
        "\n",
        "- **seed=42:** Sets the random seed for reproducibility (i.e., same results every time you run it).\n",
        "\n"
      ]
    },
    {
      "cell_type": "markdown",
      "id": "17047313",
      "metadata": {
        "id": "17047313"
      },
      "source": [
        "## **Make Predictions**"
      ]
    },
    {
      "cell_type": "code",
      "execution_count": null,
      "id": "ceae7cd9",
      "metadata": {
        "id": "ceae7cd9",
        "outputId": "d72af9fe-40b1-4bbe-b4fc-5eba0c8b5ac1"
      },
      "outputs": [
        {
          "name": "stderr",
          "output_type": "stream",
          "text": [
            "[Stage 104:>  (1 + 7) / 8][Stage 128:> (2 + 1) / 10][Stage 129:> (0 + 0) / 10]\r"
          ]
        },
        {
          "name": "stdout",
          "output_type": "stream",
          "text": [
            "+-------+--------+-------+----------+\n",
            "|user_id|hotel_id|overall|prediction|\n",
            "+-------+--------+-------+----------+\n",
            "|      1|       1|    1.0| 1.3482515|\n",
            "|      1|       1|    1.0| 1.3482515|\n",
            "|      1|       1|    1.0| 1.3482515|\n",
            "|      1|       1|    1.0| 1.3482515|\n",
            "|      1|       1|    1.0| 1.3482515|\n",
            "+-------+--------+-------+----------+\n",
            "only showing top 5 rows\n",
            "\n"
          ]
        },
        {
          "name": "stderr",
          "output_type": "stream",
          "text": [
            "\r\n",
            "[Stage 104:=================================================>       (7 + 1) / 8]\r\n",
            "\r\n",
            "                                                                                \r"
          ]
        }
      ],
      "source": [
        "test_clean = test.dropna(subset=[\"user_id\", \"hotel_id\", \"overall\"])  # adjust column names as needed\n",
        "predictions = model.transform(test_clean)\n",
        "predictions.show(5)\n"
      ]
    },
    {
      "cell_type": "markdown",
      "id": "1cccbb13",
      "metadata": {
        "id": "1cccbb13"
      },
      "source": [
        "## **Evaluate Model**"
      ]
    },
    {
      "cell_type": "code",
      "execution_count": null,
      "id": "c43e15ce",
      "metadata": {
        "id": "c43e15ce",
        "outputId": "530ce2b8-c4ee-4ae7-eb54-8e8ff33e967c"
      },
      "outputs": [
        {
          "name": "stderr",
          "output_type": "stream",
          "text": [
            "                                                                                \r"
          ]
        },
        {
          "name": "stdout",
          "output_type": "stream",
          "text": [
            "Spark ALS Model RMSE: 0.5903\n"
          ]
        }
      ],
      "source": [
        "evaluator = RegressionEvaluator(metricName=\"rmse\", labelCol=\"overall\", predictionCol=\"prediction\")\n",
        "rmse_spark = evaluator.evaluate(predictions)\n",
        "print(f\"Spark ALS Model RMSE: {rmse_spark:.4f}\")"
      ]
    },
    {
      "cell_type": "markdown",
      "id": "633a32cf",
      "metadata": {
        "id": "633a32cf"
      },
      "source": [
        "## **Baseline Model**\n",
        "Use the mean rating as prediction for all test cases and calculate RMSE."
      ]
    },
    {
      "cell_type": "code",
      "execution_count": null,
      "id": "082fef2a",
      "metadata": {
        "id": "082fef2a",
        "outputId": "ccc0c626-01ef-449d-8c54-a486b9098218"
      },
      "outputs": [
        {
          "name": "stderr",
          "output_type": "stream",
          "text": [
            "                                                                                \r"
          ]
        },
        {
          "name": "stdout",
          "output_type": "stream",
          "text": [
            "Baseline Model RMSE: 1.03\n"
          ]
        }
      ],
      "source": [
        "# Filter ratings_df to valid rating range [1, 5]\n",
        "ratings_df_filtered = ratings_df.filter(\"overall >= 1 AND overall <= 5\")\n",
        "\n",
        "# Calculate filtered mean rating\n",
        "mean_rating = ratings_df_filtered.selectExpr(\"avg(overall)\").collect()[0][0]\n",
        "\n",
        "\n",
        "# Filter test data to valid rating range and drop missing values\n",
        "test_clean = test.filter(\"overall >= 1 AND overall <= 5\").dropna(subset=[\"overall\"])\n",
        "\n",
        "# Convert to Pandas for sklearn RMSE calculation\n",
        "test_pd = test_clean.toPandas()\n",
        "\n",
        "# Add baseline prediction column with the mean rating\n",
        "test_pd['baseline_pred'] = mean_rating\n",
        "\n",
        "# Calculate RMSE between actual and baseline predicted ratings\n",
        "rmse_baseline = np.sqrt(mean_squared_error(test_pd['overall'], test_pd['baseline_pred']))\n",
        "print(f\"Baseline Model RMSE: {rmse_baseline:.2f}\")\n",
        "\n",
        "\n"
      ]
    },
    {
      "cell_type": "markdown",
      "id": "f244f7bd",
      "metadata": {
        "id": "f244f7bd"
      },
      "source": [
        "## **Compare Results**"
      ]
    },
    {
      "cell_type": "code",
      "execution_count": null,
      "id": "6816862a",
      "metadata": {
        "id": "6816862a",
        "outputId": "94e5a9b9-5d6f-4c82-aa64-d8643bc537db"
      },
      "outputs": [
        {
          "data": {
            "image/png": "[encoded data removed]",
            "text/plain": [
              "<Figure size 640x480 with 1 Axes>"
            ]
          },
          "metadata": {},
          "output_type": "display_data"
        }
      ],
      "source": [
        "plt.bar([\"ALS Model\", \"Baseline\"], [rmse_spark, rmse_baseline], color=[\"blue\", \"orange\"])\n",
        "plt.ylabel(\"RMSE\")\n",
        "plt.title(\"Model Comparison\")\n",
        "plt.show()"
      ]
    },
    {
      "cell_type": "markdown",
      "id": "9875df29",
      "metadata": {},
      "source": [
        "# **Deeper Results Analysis: ALS vs. Baseline**\n",
        "\n",
        "**Baseline Model (Mean Rating Prediction)**\n",
        "\n",
        "RMSE ~ 1.03\n",
        "\n",
        "The baseline model simply predicts the global average rating (≈4.14) for every user-item pair.\n",
        "\n",
        "It does not personalize or capture user preferences or item-specific behavior.\n",
        "\n",
        "Its high RMSE reflects poor predictive accuracy, especially when user preferences vary widely.\n",
        "\n",
        "**Spark ALS Model**\n",
        "\n",
        "RMSE ~ 0.59\n",
        "\n",
        "ALS significantly outperforms the baseline by learning latent factors that capture personalized interactions between users and items.\n",
        "\n",
        "It learns a lower-dimensional representation of both users and items that better predicts user preferences.\n",
        "\n",
        "## **Why ALS is Better**\n",
        "\n",
        "**Personalization:** ALS makes personalized predictions, while the baseline uses a one-size-fits-all estimate.\n",
        "\n",
        "**Interaction Capture:** ALS captures hidden relationships (e.g., a user liking budget hotels or boutique chains).\n",
        "\n",
        "**Bias Correction:** ALS reduces bias in sparse datasets by learning from observed patterns.\n",
        "\n",
        "# **When Is Spark Necessary?**\n",
        "\n",
        "For small datasets (like a few thousand rows), ALS can be implemented using NumPy or scikit-learn. \n",
        "\n",
        "However, as data grows to \n",
        "\n",
        "          - Millions of users/items\n",
        "          \n",
        "          - Billions of interactions\n",
        "          \n",
        "          - Live updates or frequent retraining\n",
        "          \n",
        " moving to Spark becomes necessary to avoid memory bottlenecks and to ensure scalability, distributed storage, and fault tolerance. Spark enables real-time or batch recommendation pipelines at production scale something local tools cannot handle efficiently."
      ]
    },
    {
      "cell_type": "markdown",
      "id": "830c5648",
      "metadata": {
        "id": "830c5648"
      },
      "source": [
        "## **Wrap-up and Stop Spark**"
      ]
    },
    {
      "cell_type": "code",
      "execution_count": null,
      "id": "b72ff13b",
      "metadata": {
        "id": "b72ff13b"
      },
      "outputs": [],
      "source": [
        "spark.stop()"
      ]
    },
    {
      "cell_type": "markdown",
      "id": "6fkPY4EkCsI1",
      "metadata": {
        "id": "6fkPY4EkCsI1"
      },
      "source": [
        "# **Conclusion**\n",
        "\n",
        "In this project, we implemented a recommender system using both a simple baseline approach and Spark's ALS algorithm. The baseline model, which predicted the average rating for all users and items, resulted in a high RMSE (~ 1.03), indicating average predictive performance. In contrast, the Spark ALS model significantly outperformed the baseline with a much lower RMSE (~0.59), demonstrating its effectiveness at capturing user-item interactions.\n",
        "\n",
        "This notebook was set up inside a Docker container using an image that includes Jupyter, PySpark, and all necessary dependencies. This setup ensured a consistent, reproducible, and isolated environment for development, allowing us to scale or port the workflow easily across machines.\n",
        "\n",
        "Apache Spark plays a crucial role in enabling the distributed processing of large-scale data, which would be challenging or inefficient using in-memory tools like Pandas. While our dataset in this case may not have required full distributed computing, moving to Spark becomes essential when:\n",
        "\n",
        "- The dataset grows beyond memory (e.g., millions of users and items).\n",
        "\n",
        "- The model needs to be trained or updated frequently in production.\n",
        "\n",
        "- Real-time or batch processing at scale is needed (e.g., on Spark clusters or in the cloud).\n",
        "\n",
        "- Parallelism and fault tolerance are necessary for long-running jobs.\n",
        "\n",
        "Thus, for recommender systems with increasing data volume, user activity, and performance demands, Spark provides the scalability and efficiency needed to support production-grade systems."
      ]
    }
  ],
  "metadata": {
    "colab": {
      "provenance": []
    },
    "kernelspec": {
      "display_name": "Python 3 (ipykernel)",
      "language": "python",
      "name": "python3"
    },
    "language_info": {
      "codemirror_mode": {
        "name": "ipython",
        "version": 3
      },
      "file_extension": ".py",
      "mimetype": "text/x-python",
      "name": "python",
      "nbconvert_exporter": "python",
      "pygments_lexer": "ipython3",
      "version": "3.9.23"
    }
  },
  "nbformat": 4,
  "nbformat_minor": 5
}
