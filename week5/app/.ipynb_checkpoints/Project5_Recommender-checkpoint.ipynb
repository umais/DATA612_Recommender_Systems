{
 "cells": [
  {
   "cell_type": "markdown",
   "id": "c3b714fb",
   "metadata": {},
   "source": [
    "# DATA 612 Project 3 | Matrix Factorization methods\n",
    "**Name:** Umais Siddiqui  \n",
    "**Class:** Data 612 - Recommender Systems  \n",
    "**Github Link:** https://github.com/umais/DATA612_Recommender_Systems/blob/master/Week3/Week3_Project3.ipynb\n",
    "\n",
    "---\n",
    "\n",
    "## Introduction\n",
    "This notebook demonstrates building a recommendation system using PySpark's ALS (Alternating Least Squares) algorithm. The project covers data loading, preprocessing, model training, evaluation, and baseline comparison.\n"
   ]
  },
  {
   "cell_type": "code",
   "execution_count": 8,
   "id": "246a8f50",
   "metadata": {},
   "outputs": [],
   "source": [
    "from pyspark.sql import SparkSession\n",
    "from pyspark.ml.evaluation import RegressionEvaluator\n",
    "from pyspark.ml.recommendation import ALS\n",
    "import matplotlib.pyplot as plt\n",
    "import pandas as pd\n",
    "from pyspark.sql.functions import col\n",
    "from sklearn.metrics import mean_squared_error\n",
    "import numpy as np\n"
   ]
  },
  {
   "cell_type": "markdown",
   "id": "0bd9268e",
   "metadata": {},
   "source": [
    "## Setup Spark Session and Environment\n",
    "PySpark is a Python API for Spark, a distributed data processing engine. ALS is used here for matrix factorization in collaborative filtering recommendation.\n"
   ]
  },
  {
   "cell_type": "code",
   "execution_count": 9,
   "id": "1e84e6c6",
   "metadata": {},
   "outputs": [],
   "source": [
    "# Initialize Spark session\n",
    "spark = SparkSession.builder.appName(\"Data612Project5\").getOrCreate()"
   ]
  },
  {
   "cell_type": "markdown",
   "id": "5533bc7f",
   "metadata": {},
   "source": [
    "## Load and Explore Data\n",
    "Load the ratings data from CSV, inspect schema and data preview."
   ]
  },
  {
   "cell_type": "code",
   "execution_count": 10,
   "id": "4a0c9504",
   "metadata": {},
   "outputs": [
    {
     "name": "stderr",
     "output_type": "stream",
     "text": [
      "\r",
      "                                                                                \r"
     ]
    },
    {
     "name": "stdout",
     "output_type": "stream",
     "text": [
      "Schema before casting:\n",
      "root\n",
      " |-- user_id: string (nullable = true)\n",
      " |-- hotel_id: string (nullable = true)\n",
      " |-- overall: string (nullable = true)\n",
      "\n",
      "+--------------------+--------------------+-------+\n",
      "|             user_id|            hotel_id|overall|\n",
      "+--------------------+--------------------+-------+\n",
      "|2262DCBFC351F42A9...|           127781101|    5.0|\n",
      "|         __label__en|                 204|   null|\n",
      "|8477E11DABF4D6743...|           137380592|    5.0|\n",
      "| a bartender in t...| from the doormen...|    621|\n",
      "|483A193B7113ADFFD...|           129673371|   null|\n",
      "+--------------------+--------------------+-------+\n",
      "only showing top 5 rows\n",
      "\n"
     ]
    },
    {
     "name": "stderr",
     "output_type": "stream",
     "text": [
      "\r",
      "[Stage 14:>                                                         (0 + 8) / 8]\r"
     ]
    },
    {
     "name": "stdout",
     "output_type": "stream",
     "text": [
      "Total ratings: 962266\n"
     ]
    },
    {
     "name": "stderr",
     "output_type": "stream",
     "text": [
      "\r",
      "                                                                                \r"
     ]
    }
   ],
   "source": [
    "data_path = \"/data/data.csv\"\n",
    "ratings_df = spark.read.csv(data_path, header=True, inferSchema=False)\n",
    "ratings_df = ratings_df.select(\"user_id\", \"hotel_id\", \"overall\")\n",
    "print(\"Schema before casting:\")\n",
    "ratings_df.printSchema()\n",
    "ratings_df.show(5)\n",
    "print(f\"Total ratings: {ratings_df.count()}\")"
   ]
  },
  {
   "cell_type": "markdown",
   "id": "158acdd0",
   "metadata": {},
   "source": [
    "## Data Type Correction\n",
    "Cast user_id, hotel_id to integer and overall to float (ALS requires numeric types)."
   ]
  },
  {
   "cell_type": "code",
   "execution_count": 11,
   "id": "3720247a",
   "metadata": {},
   "outputs": [
    {
     "name": "stdout",
     "output_type": "stream",
     "text": [
      "Schema after casting:\n",
      "root\n",
      " |-- user_id: integer (nullable = true)\n",
      " |-- hotel_id: integer (nullable = true)\n",
      " |-- overall: float (nullable = true)\n",
      "\n"
     ]
    }
   ],
   "source": [
    "ratings_df = ratings_df.withColumn(\"user_id\", col(\"user_id\").cast(\"integer\")) \\\n",
    "                     .withColumn(\"hotel_id\", col(\"hotel_id\").cast(\"integer\")) \\\n",
    "                     .withColumn(\"overall\", col(\"overall\").cast(\"float\"))\n",
    "print(\"Schema after casting:\")\n",
    "ratings_df.printSchema()"
   ]
  },
  {
   "cell_type": "markdown",
   "id": "305c6c80",
   "metadata": {},
   "source": [
    "## Train-Test Split"
   ]
  },
  {
   "cell_type": "code",
   "execution_count": 12,
   "id": "be8146c2",
   "metadata": {},
   "outputs": [
    {
     "name": "stderr",
     "output_type": "stream",
     "text": [
      "[Stage 20:>                                                         (0 + 8) / 8]\r"
     ]
    },
    {
     "name": "stdout",
     "output_type": "stream",
     "text": [
      "Train count: 770048, Test count: 192218\n"
     ]
    },
    {
     "name": "stderr",
     "output_type": "stream",
     "text": [
      "\r",
      "[Stage 20:=======>                                                  (1 + 7) / 8]\r",
      "\r",
      "                                                                                \r"
     ]
    }
   ],
   "source": [
    "train, test = ratings_df.randomSplit([0.8, 0.2], seed=42)\n",
    "print(f\"Train count: {train.count()}, Test count: {test.count()}\")"
   ]
  },
  {
   "cell_type": "markdown",
   "id": "d611166f",
   "metadata": {},
   "source": [
    "## Train ALS Model"
   ]
  },
  {
   "cell_type": "code",
   "execution_count": 14,
   "id": "52e66cfa",
   "metadata": {},
   "outputs": [
    {
     "name": "stderr",
     "output_type": "stream",
     "text": [
      "25/07/02 02:13:51 WARN InstanceBuilder: Failed to load implementation from:dev.ludovic.netlib.blas.JNIBLAS\n",
      "25/07/02 02:13:51 WARN InstanceBuilder: Failed to load implementation from:dev.ludovic.netlib.blas.VectorBLAS\n"
     ]
    }
   ],
   "source": [
    "als = ALS(maxIter=10, regParam=0.1, userCol=\"user_id\", itemCol=\"hotel_id\", ratingCol=\"overall\",\n",
    "          coldStartStrategy=\"drop\", nonnegative=True, seed=42)\n",
    "train = train.dropna(subset=[\"user_id\", \"hotel_id\", \"overall\"])\n",
    "\n",
    "model = als.fit(train)"
   ]
  },
  {
   "cell_type": "markdown",
   "id": "17047313",
   "metadata": {},
   "source": [
    "## Make Predictions"
   ]
  },
  {
   "cell_type": "code",
   "execution_count": 17,
   "id": "ceae7cd9",
   "metadata": {},
   "outputs": [
    {
     "name": "stderr",
     "output_type": "stream",
     "text": [
      "[Stage 104:>  (1 + 7) / 8][Stage 128:> (2 + 1) / 10][Stage 129:> (0 + 0) / 10]\r"
     ]
    },
    {
     "name": "stdout",
     "output_type": "stream",
     "text": [
      "+-------+--------+-------+----------+\n",
      "|user_id|hotel_id|overall|prediction|\n",
      "+-------+--------+-------+----------+\n",
      "|      1|       1|    1.0| 1.3482515|\n",
      "|      1|       1|    1.0| 1.3482515|\n",
      "|      1|       1|    1.0| 1.3482515|\n",
      "|      1|       1|    1.0| 1.3482515|\n",
      "|      1|       1|    1.0| 1.3482515|\n",
      "+-------+--------+-------+----------+\n",
      "only showing top 5 rows\n",
      "\n"
     ]
    },
    {
     "name": "stderr",
     "output_type": "stream",
     "text": [
      "\r",
      "[Stage 104:=================================================>       (7 + 1) / 8]\r",
      "\r",
      "                                                                                \r"
     ]
    }
   ],
   "source": [
    "test_clean = test.dropna(subset=[\"user_id\", \"hotel_id\", \"overall\"])  # adjust column names as needed\n",
    "predictions = model.transform(test_clean)\n",
    "predictions.show(5)\n"
   ]
  },
  {
   "cell_type": "markdown",
   "id": "1cccbb13",
   "metadata": {},
   "source": [
    "## Evaluate Model"
   ]
  },
  {
   "cell_type": "code",
   "execution_count": 18,
   "id": "c43e15ce",
   "metadata": {},
   "outputs": [
    {
     "name": "stderr",
     "output_type": "stream",
     "text": [
      "                                                                                \r"
     ]
    },
    {
     "name": "stdout",
     "output_type": "stream",
     "text": [
      "Spark ALS Model RMSE: 0.5903\n"
     ]
    }
   ],
   "source": [
    "evaluator = RegressionEvaluator(metricName=\"rmse\", labelCol=\"overall\", predictionCol=\"prediction\")\n",
    "rmse_spark = evaluator.evaluate(predictions)\n",
    "print(f\"Spark ALS Model RMSE: {rmse_spark:.4f}\")"
   ]
  },
  {
   "cell_type": "markdown",
   "id": "633a32cf",
   "metadata": {},
   "source": [
    "## Baseline Model\n",
    "Use the mean rating as prediction for all test cases and calculate RMSE."
   ]
  },
  {
   "cell_type": "code",
   "execution_count": 22,
   "id": "082fef2a",
   "metadata": {},
   "outputs": [
    {
     "name": "stderr",
     "output_type": "stream",
     "text": [
      "[Stage 222:=======>                                                 (1 + 7) / 8]\r"
     ]
    },
    {
     "name": "stdout",
     "output_type": "stream",
     "text": [
      "Baseline Model RMSE: 272.46\n"
     ]
    },
    {
     "name": "stderr",
     "output_type": "stream",
     "text": [
      "\r",
      "                                                                                \r"
     ]
    }
   ],
   "source": [
    "ratings_df_filtered = ratings_df.filter(\"overall >= 1 AND overall <= 5\")\n",
    "mean_rating = ratings_df_filtered.selectExpr(\"avg(overall)\").collect()[0][0]\n",
    "\n",
    "test_clean = test.dropna(subset=[\"overall\"])\n",
    "test_pd = test_clean.toPandas()\n",
    "\n",
    "test_pd['baseline_pred'] = mean_rating\n",
    "test_pd = test_pd.dropna(subset=[\"overall\", \"baseline_pred\"])\n",
    "\n",
    "rmse_baseline = np.sqrt(mean_squared_error(test_pd['overall'], test_pd['baseline_pred']))\n",
    "print(f\"Baseline Model RMSE: {rmse_baseline:.2f}\")\n"
   ]
  },
  {
   "cell_type": "markdown",
   "id": "f244f7bd",
   "metadata": {},
   "source": [
    "## Compare Results"
   ]
  },
  {
   "cell_type": "code",
   "execution_count": 21,
   "id": "6816862a",
   "metadata": {},
   "outputs": [
    {
     "data": {
      "image/png": "[encoded data removed]",
      "text/plain": [
       "<Figure size 640x480 with 1 Axes>"
      ]
     },
     "metadata": {},
     "output_type": "display_data"
    }
   ],
   "source": [
    "plt.bar([\"ALS Model\", \"Baseline\"], [rmse_spark, rmse_baseline], color=[\"blue\", \"orange\"])\n",
    "plt.ylabel(\"RMSE\")\n",
    "plt.title(\"Model Comparison\")\n",
    "plt.show()"
   ]
  },
  {
   "cell_type": "markdown",
   "id": "830c5648",
   "metadata": {},
   "source": [
    "## Wrap-up and Stop Spark"
   ]
  },
  {
   "cell_type": "code",
   "execution_count": 11,
   "id": "b72ff13b",
   "metadata": {},
   "outputs": [],
   "source": [
    "spark.stop()"
   ]
  }
 ],
 "metadata": {
  "kernelspec": {
   "display_name": "Python 3 (ipykernel)",
   "language": "python",
   "name": "python3"
  },
  "language_info": {
   "codemirror_mode": {
    "name": "ipython",
    "version": 3
   },
   "file_extension": ".py",
   "mimetype": "text/x-python",
   "name": "python",
   "nbconvert_exporter": "python",
   "pygments_lexer": "ipython3",
   "version": "3.9.23"
  }
 },
 "nbformat": 4,
 "nbformat_minor": 5
}
