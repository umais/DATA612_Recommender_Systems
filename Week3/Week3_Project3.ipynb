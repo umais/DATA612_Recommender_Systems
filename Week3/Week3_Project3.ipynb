{
 "cells": [
  {
   "cell_type": "markdown",
   "metadata": {
    "id": "sKtQvg1INKQq"
   },
   "source": [
    "# **DATA 612 Project 3 | Matrix Factorization methods**\n",
    "\n",
    "**Name:** Umais Siddiqui\n",
    "\n",
    "**Class:** Data 612 - Recommender Systems\n",
    "\n",
    "**Github Link:** https://github.com/umais/DATA612_Recommender_Systems/blob/master/Week3/Week3_Project3.ipynb\n",
    "\n"
   ]
  },
  {
   "cell_type": "markdown",
   "metadata": {
    "id": "kmRSugd_N6Oj"
   },
   "source": [
    "# **Introduction**\n",
    "\n",
    "In this project I will be implementing Matrix Factorization using Singular Value Decomposition (SVD) to predict user-item ratings in a recommender system, using the hotel dataset.\n",
    "\n",
    "## **What is SVD and Why Use It?**\n",
    "\n",
    "**Singular Value Decomposition (SVD)** is a powerful matrix factorization technique that decomposes a user-item rating matrix into three smaller matrices. Here's why SVD is particularly valuable for recommender systems:\n",
    "\n",
    "### **Key Advantages of SVD:**\n",
    "\n",
    "1. **Dimensionality Reduction**: SVD reduces the original sparse rating matrix into lower-dimensional latent factor representations, capturing the most important patterns while filtering out noise.\n",
    "\n",
    "2. **Handles Sparsity**: Real-world rating matrices are extremely sparse (most users haven't rated most items). SVD excels at making predictions for missing values by learning latent factors that represent user preferences and item characteristics.\n",
    "\n",
    "3. **Captures Latent Relationships**: SVD discovers hidden patterns and relationships between users and items that aren't immediately obvious. For example, it might discover that certain users prefer boutique hotels while others prefer chain hotels, even without explicit categories.\n",
    "\n",
    "4. **Computational Efficiency**: Once trained, SVD provides fast predictions and can handle large datasets efficiently.\n",
    "\n",
    "5. **Generalization**: By focusing on the most significant patterns (through the largest singular values), SVD tends to generalize well to unseen data.\n",
    "\n",
    "### **How SVD Works in Recommender Systems:**\n",
    "\n",
    "SVD decomposes the user-item rating matrix R into three matrices:\n",
    "- **U**: User-factor matrix (users × latent factors)\n",
    "- **Σ**: Diagonal matrix of singular values (importance weights)\n",
    "- **V^T**: Item-factor matrix (latent factors × items)\n",
    "\n",
    "The prediction for user u and item i is computed as the dot product of the user's latent factor vector and the item's latent factor vector.\n",
    "\n",
    "## **Implementation Using Surprise Library**\n",
    "\n",
    "We'll use the Surprise library because:\n",
    "\n",
    "- It supports SVD with built-in handling for missing values via stochastic gradient descent\n",
    "- It's efficient and well-documented\n",
    "- It provides easy evaluation metrics and cross-validation tools\n",
    "- It handles the mathematical complexity while allowing us to focus on analysis\n",
    "\n",
    "### **Install Required Packages**"
   ]
  },
  {
   "cell_type": "code",
   "execution_count": null,
   "metadata": {
    "colab": {
     "base_uri": "https://localhost:8080/"
    },
    "id": "0r9-SICZO-_M",
    "outputId": "8c923afe-3865-4dd4-bda4-5a8821cb1720"
   },
   "outputs": [],
   "source": [
    "!pip install scikit-surprise pandas numpy==1.23.5 matplotlib"
   ]
  },
  {
   "cell_type": "markdown",
   "metadata": {
    "id": "SeIluNNWPGCJ"
   },
   "source": [
    "# **Load and prepare data**\n",
    "\n",
    "In this step I will be loading the hotels rating data. The same data that was used in the previous two projects. However in this project I will be importing the necessary libraries for working with the data and building an SVD-based recommendation model."
   ]
  },
  {
   "cell_type": "code",
   "execution_count": null,
   "metadata": {
    "id": "mqhfsRMwNJTZ"
   },
   "outputs": [],
   "source": [
    "\n",
    "\n",
    "import pandas as pd\n",
    "from surprise import Dataset, Reader, SVD\n",
    "from surprise.model_selection import train_test_split\n",
    "from surprise.accuracy import rmse\n",
    "\n",
    "# Load your cleaned dataset\n",
    "df = pd.read_csv('data.csv')\n",
    "\n",
    "# Only keep necessary columns for the recommender\n",
    "ratings_df = df[['user_id', 'hotel_id', 'overall']].dropna()\n",
    "\n",
    "# Convert to Surprise format\n",
    "reader = Reader(rating_scale=(1, 5))\n",
    "data = Dataset.load_from_df(ratings_df, reader)\n"
   ]
  },
  {
   "cell_type": "markdown",
   "metadata": {
    "id": "iP3ZwckcPRs1"
   },
   "source": [
    "# **Train-Test Split & SVD Training**"
   ]
  },
  {
   "cell_type": "markdown",
   "metadata": {
    "id": "B6ka-8pCaUb-"
   },
   "source": [
    "I am training two versions of a Hotels recommender system:\n",
    "\n",
    "One with default settings.\n",
    "\n",
    "One with customized settings to (hopefully) get better results.\n",
    "\n",
    "Then I am testing both and measuring how close the model’s predictions are to real user ratings."
   ]
  },
  {
   "cell_type": "code",
   "execution_count": 15,
   "metadata": {
    "colab": {
     "base_uri": "https://localhost:8080/"
    },
    "id": "0hQ2YlS7Pcwn",
    "outputId": "e04f34b3-0522-4a0a-9c1d-d4f0ca7c26fd"
   },
   "outputs": [
    {
     "name": "stdout",
     "output_type": "stream",
     "text": [
      "RMSE: 1.0682\n",
      "RMSE: 1.0683\n"
     ]
    },
    {
     "data": {
      "text/plain": [
       "1.0682949276237625"
      ]
     },
     "execution_count": 15,
     "metadata": {},
     "output_type": "execute_result"
    }
   ],
   "source": [
    "trainset, testset = train_test_split(data, test_size=0.2)\n",
    "\n",
    "# Apply SVD\n",
    "model = SVD()\n",
    "model.fit(trainset)\n",
    "\n",
    "# Predict on testset\n",
    "predictions = model.test(testset)\n",
    "\n",
    "# Evaluate performance\n",
    "rmse(predictions)\n",
    "\n",
    "model = SVD(n_factors=100, n_epochs=30, lr_all=0.005, reg_all=0.02)\n",
    "model.fit(trainset)\n",
    "predictions = model.test(testset)\n",
    "rmse(predictions)\n"
   ]
  },
  {
   "cell_type": "markdown",
   "metadata": {
    "id": "XbJAt4w4adDi"
   },
   "source": [
    "**Default SVD model:** RMSE: 1.0658\n",
    "\n",
    "**Tuned SVD model:** RMSE: 1.0660\n",
    "\n",
    "**Final output (rounded):** 1.065984643174787\n",
    "\n",
    "## **Here’s what each parameter means:**\n",
    "\n",
    "**n_factors=100**\n",
    "\n",
    "This sets the number of latent factors (or dimensions) used to represent users and items. Higher values may capture more nuanced interactions but risk overfitting if too large. Common values range from 20 to 100.\n",
    "\n",
    "**n_epochs=30**\n",
    "\n",
    "This is the number of iterations (epochs) the algorithm runs over the entire training dataset. More epochs give the model more chances to learn, but after a point, gains in performance may plateau or even degrade due to overfitting.\n",
    "\n",
    "**lr_all=0.005**\n",
    "\n",
    "The learning rate used for stochastic gradient descent (SGD). This determines how big a step the model takes during each update. A small value like 0.005 helps ensure stable convergence, but training takes longer.\n",
    "\n",
    "**reg_all=0.02**\n",
    "\n",
    "This is the regularization term applied to all parameters (user factors, item factors, and biases). It prevents the model from overfitting by penalizing overly complex parameter values.\n",
    "\n",
    "Together, these hyperparameters govern how well the model learns latent representations while controlling for overfitting and underfitting. They were either manually set or optimized via cross-validation.\n",
    "\n",
    "## **Results Analysis: Why Are the Results So Flat?**\n",
    "\n",
    "The remarkably similar performance between the default and tuned SVD models (RMSE difference < 0.0002) reveals several important insights about our hotel rating dataset and the SVD algorithm:\n",
    "\n",
    "### **1. Dataset Characteristics Leading to Flat Results:**\n",
    "\n",
    "**Limited Rating Variance**: Hotel ratings often cluster around 3-4 stars, creating a narrow distribution. When most ratings fall within a small range, even a simple model can achieve reasonable accuracy by predicting near the mean.\n",
    "\n",
    "**High Baseline Accuracy**: The RMSE of ~1.07 on a 1-5 scale means our model is off by about 1 point on average. For hotel ratings, this might represent the natural noise in subjective ratings rather than systematic prediction errors.\n",
    "\n",
    "**Sparse Interaction Patterns**: Hotel booking patterns are different from movie ratings or product purchases. Users typically book hotels infrequently and in different locations, leading to limited overlap in user-item interactions.\n",
    "\n",
    "### **2. SVD Algorithm Behavior:**\n",
    "\n",
    "**Robust Default Parameters**: The Surprise library's default SVD parameters are well-tuned for typical rating prediction tasks. Our hyperparameter adjustments may not have addressed the specific characteristics of hotel rating data.\n",
    "\n",
    "**Convergence to Local Optimum**: Both models may have converged to similar local optima, suggesting that the rating patterns in our dataset don't require complex latent factor representations.\n",
    "\n",
    "**Regularization Effects**: The regularization in SVD prevents overfitting, which means that increasing model complexity (more factors, epochs) doesn't necessarily improve performance if the underlying patterns are simple.\n",
    "\n",
    "### **3. Implications for Hotel Recommender Systems:**\n",
    "\n",
    "**Content-Based Features Needed**: The flat results suggest that collaborative filtering alone may not be sufficient for hotel recommendations. Location, price, amenities, and temporal factors might be more predictive than user-user similarities.\n",
    "\n",
    "**Cold Start Problem**: Hotels and users with few ratings are difficult to model with collaborative filtering, leading to predictions that regress toward the mean.\n",
    "\n",
    "**Domain-Specific Challenges**: Unlike entertainment recommendations, hotel preferences are heavily influenced by context (business vs. leisure travel, budget constraints, location requirements) that pure collaborative filtering cannot capture."
   ]
  },
  {
   "cell_type": "code",
   "execution_count": 16,
   "metadata": {
    "colab": {
     "base_uri": "https://localhost:8080/"
    },
    "id": "ja2JSkjYukRQ",
    "outputId": "c2a39269-6d66-4898-b301-155952c60860",
    "scrolled": true
   },
   "outputs": [
    {
     "name": "stdout",
     "output_type": "stream",
     "text": [
      "1.0666816497018596\n",
      "{'n_factors': 50, 'n_epochs': 20, 'lr_all': 0.005, 'reg_all': 0.1}\n"
     ]
    }
   ],
   "source": [
    "from surprise.model_selection import GridSearchCV\n",
    "\n",
    "param_grid = {\n",
    "    'n_factors': [50, 100],\n",
    "    'n_epochs': [20, 30],\n",
    "    'lr_all': [0.002, 0.005],\n",
    "    'reg_all': [0.02, 0.1]\n",
    "}\n",
    "\n",
    "gs = GridSearchCV(SVD, param_grid, measures=['rmse'], cv=3)\n",
    "gs.fit(data)\n",
    "\n",
    "print(gs.best_score['rmse'])\n",
    "print(gs.best_params['rmse'])\n"
   ]
  },
  {
   "cell_type": "markdown",
   "metadata": {
    "id": "hEfXeHTriGU9"
   },
   "source": [
    "In the code above I am using the GridSearchCV to find the best hyperparameters to use\n",
    "\n",
    "This code uses GridSearchCV to find the best hyperparameters for the SVD model by testing multiple combinations. It evaluates each setup using 3-fold cross-validation and selects the one with the lowest RMSE (prediction error). The output shows the best RMSE score and the corresponding parameter values."
   ]
  },
  {
   "cell_type": "markdown",
   "metadata": {
    "id": "zA3c3_5Uiozc"
   },
   "source": [
    "The code above uses GridSearchCV to systematically find the optimal hyperparameters for our SVD model. The grid search tests different combinations of:\n",
    "\n",
    "- **n_factors**: Number of latent factors (50, 100)\n",
    "- **n_epochs**: Training iterations (20, 30) \n",
    "- **lr_all**: Learning rate for all parameters (0.002, 0.005)\n",
    "- **reg_all**: Regularization for all parameters (0.02, 0.1)\n",
    "\n",
    "The best configuration found was: 50 factors, 20 epochs, 0.005 learning rate, and 0.1 regularization, achieving an RMSE of 1.0667.\n",
    "\n",
    "## **SVD Model Limitations and Why Results Are Constrained**\n",
    "\n",
    "### **Inherent SVD Limitations:**\n",
    "\n",
    "1. **Linear Relationships Only**: SVD assumes linear relationships between latent factors. Complex, non-linear user preferences (e.g., \"I like budget hotels for business trips but luxury hotels for vacations\") cannot be captured.\n",
    "\n",
    "2. **Static User Preferences**: SVD treats user preferences as fixed over time. In reality, hotel preferences evolve with life changes, income, travel experience, and seasonal factors.\n",
    "\n",
    "3. **No Context Awareness**: SVD ignores contextual information like:\n",
    "   - Trip purpose (business vs. leisure)\n",
    "   - Travel companions (solo, family, couple)\n",
    "   - Booking timing (last-minute vs. planned)\n",
    "   - Seasonal preferences\n",
    "\n",
    "4. **Cold Start Problem**: New users or hotels with few ratings receive poor recommendations because SVD relies on historical interaction patterns.\n",
    "\n",
    "### **Dataset-Specific Constraints:**\n",
    "\n",
    "1. **Geographic Sparsity**: Users typically don't rate hotels in the same locations, reducing collaborative filtering effectiveness.\n",
    "\n",
    "2. **Infrequent Interactions**: Unlike movies or music, hotel bookings are infrequent, leading to very sparse user-item matrices.\n",
    "\n",
    "3. **Rating Inflation**: Hotel ratings tend to be inflated (most ratings are 4-5 stars), reducing the discriminative power of the rating scale.\n",
    "\n",
    "## **Future Work and Improvements**\n",
    "\n",
    "Based on our analysis of the SVD recommender system's performance and limitations, several promising directions emerge for enhancing hotel recommendation systems:\n",
    "\n",
    "### **1. Advanced Hyperparameter Optimization**\n",
    "\n",
    "**Beyond Grid Search:** While our grid search provided a systematic approach, more sophisticated optimization techniques could yield better results:\n",
    "\n",
    "- **Bayesian Optimization**: Unlike grid search which tests predetermined combinations, Bayesian optimization uses probabilistic models to intelligently select the next hyperparameter combination to test. This is particularly valuable for SVD because it can explore the hyperparameter space more efficiently, balancing exploration (trying new areas) with exploitation (refining promising areas). It's especially useful when evaluation is expensive (large datasets, long training times).\n",
    "\n",
    "- **Automated Machine Learning (AutoML)**: Tools like Optuna or Hyperopt could automatically tune not just hyperparameters but also feature engineering and model selection decisions.\n",
    "\n",
    "- **Domain-Specific Parameter Ranges**: Our current search space may be too narrow. Hotel recommendation systems might benefit from higher regularization values to handle sparse data, different learning rates for user vs. item factors, and adaptive learning rate schedules.\n",
    "\n",
    "### **2. Incorporating Side Information (Hybrid Approaches)**\n",
    "\n",
    "**Why Side Information is Critical for Hotels:** Pure collaborative filtering struggles with hotel data because travel patterns are highly contextual. Integrating additional information could dramatically improve recommendations:\n",
    "\n",
    "**User Demographics and Behavior:**\n",
    "- Age and income level (budget vs. luxury preferences)\n",
    "- Travel frequency (business travelers vs. occasional vacationers)\n",
    "- Geographic location (domestic vs. international travel patterns)\n",
    "- Booking history patterns (advance planners vs. last-minute bookers)\n",
    "\n",
    "**Hotel Metadata:**\n",
    "- Location features (city center, airport proximity, tourist attractions)\n",
    "- Amenities (pool, gym, business center, pet-friendly)\n",
    "- Price range and seasonal pricing patterns\n",
    "- Hotel chain vs. independent property\n",
    "- Review sentiment analysis from text reviews\n",
    "\n",
    "**Contextual Information:**\n",
    "- Trip purpose (business, leisure, family vacation)\n",
    "- Season and weather conditions\n",
    "- Local events and conferences\n",
    "- Group size and composition\n",
    "\n",
    "**Implementation Approaches:**\n",
    "- Matrix Factorization with Side Information: Extend SVD to incorporate feature vectors\n",
    "- Factorization Machines: Handle sparse feature interactions effectively\n",
    "- Content-Based + Collaborative Filtering: Weight recommendations based on both user similarity and item features\n",
    "\n",
    "### **3. Exploring Deep Learning Models**\n",
    "\n",
    "**Neural Network-Based Recommender Systems:** Deep learning approaches could capture more complex user-item relationships that linear SVD cannot model:\n",
    "\n",
    "**Autoencoders for Collaborative Filtering:**\n",
    "- Can learn non-linear representations of user preferences\n",
    "- Handle missing data naturally through reconstruction loss\n",
    "- Capture complex interaction patterns between users and hotels\n",
    "- Example: A user might prefer budget hotels for business trips but luxury resorts for family vacations - autoencoders can learn these context-dependent preferences\n",
    "\n",
    "**Deep Matrix Factorization:**\n",
    "- Neural Collaborative Filtering (NCF): Combines matrix factorization with neural networks\n",
    "- Can model non-linear user-item interactions\n",
    "- Incorporates both explicit and implicit feedback\n",
    "\n",
    "**Recurrent Neural Networks (RNNs):**\n",
    "- Model sequential booking patterns\n",
    "- Capture temporal dynamics in user preferences\n",
    "- Useful for understanding how travel preferences evolve over time\n",
    "\n",
    "**Graph Neural Networks (GNNs):**\n",
    "- Model complex relationships between users, hotels, and locations\n",
    "- Can incorporate geographical proximity and hotel similarity\n",
    "- Handle multi-relational data (user-hotel, hotel-location, user-user relationships)\n",
    "\n",
    "### **4. Scalability and Real-Time Recommendations**\n",
    "\n",
    "**Challenges for Production Deployment:** Real-world hotel recommendation systems must handle millions of users and properties while providing instant recommendations:\n",
    "\n",
    "**Distributed Computing Approaches:**\n",
    "- Apache Spark MLlib for distributed matrix factorization\n",
    "- Distributed SGD for training large-scale models\n",
    "- Model parallelism for handling large embedding matrices\n",
    "\n",
    "**Real-Time Inference:**\n",
    "- Pre-computed recommendations with periodic updates\n",
    "- Approximate nearest neighbor search for similar users/hotels\n",
    "- Caching strategies for frequently requested recommendations\n",
    "- Online learning for incorporating new user interactions immediately\n",
    "\n",
    "**Incremental Learning:**\n",
    "- Update models with new data without full retraining\n",
    "- Handle concept drift as user preferences change\n",
    "- Adapt to seasonal patterns and emerging travel trends\n",
    "\n",
    "### **5. Bias and Fairness Analysis**\n",
    "\n",
    "**Critical Importance in Hotel Recommendations:** Biased recommendations can perpetuate discrimination and limit opportunities for both users and hotel businesses:\n",
    "\n",
    "**Types of Bias to Address:**\n",
    "\n",
    "*Popularity Bias:* Our flat results suggest this is already an issue - popular hotels get more exposure, making it harder for smaller, unique properties to be discovered.\n",
    "\n",
    "*Geographic Bias:* Recommendations might favor hotels in major cities over rural or emerging destinations, limiting travel diversity.\n",
    "\n",
    "*Price Bias:* Systems might consistently recommend hotels in certain price ranges, potentially excluding budget or luxury options inappropriately.\n",
    "\n",
    "*Demographic Bias:* Recommendations could vary unfairly based on user demographics, leading to discriminatory treatment.\n",
    "\n",
    "**Mitigation Strategies:**\n",
    "\n",
    "*Fairness Constraints:* Implement algorithmic fairness constraints to ensure equitable treatment across user groups and hotel types.\n",
    "\n",
    "*Diversity Injection:* Deliberately include diverse options in recommendation lists to expose users to varied choices.\n",
    "\n",
    "*Bias Auditing:* Regular analysis of recommendation patterns to identify and correct systematic biases.\n",
    "\n",
    "*Multi-Stakeholder Optimization:* Balance user satisfaction with fairness to hotel businesses and broader societal goals.\n",
    "\n",
    "**Evaluation Metrics:**\n",
    "- Coverage: Percentage of hotels that receive recommendations\n",
    "- Diversity: Variety in recommended hotel types, locations, and price ranges\n",
    "- Fairness: Equal treatment across user demographics and hotel categories\n",
    "- Long-tail Performance: How well the system recommends less popular hotels\n",
    "\n",
    "## **Conclusion**\n",
    "\n",
    "Our implementation of SVD for hotel recommendations revealed both the strengths and limitations of traditional matrix factorization approaches. While SVD provides a solid foundation for collaborative filtering, the flat performance results highlight the unique challenges of hotel recommendation systems.\n",
    "\n",
    "**Key Insights:**\n",
    "1. **SVD's Value**: Despite flat results, SVD successfully learned latent factors and provided reasonable baseline performance, demonstrating its utility as a starting point for recommendation systems.\n",
    "\n",
    "2. **Domain-Specific Challenges**: Hotel recommendations differ significantly from movie or product recommendations due to infrequent interactions, geographic constraints, and high contextual dependency.\n",
    "\n",
    "3. **Need for Hybrid Approaches**: Pure collaborative filtering is insufficient for hotel recommendations - incorporating content-based features and contextual information is essential.\n",
    "\n",
    "4. **Importance of Evaluation Beyond RMSE**: While RMSE provides a useful baseline, hotel recommendation systems require evaluation metrics that consider diversity, coverage, and real-world business impact.\n",
    "\n",
    "The future directions outlined above represent a roadmap for developing more sophisticated, fair, and effective hotel recommendation systems that can handle the complexity of modern travel booking platforms while serving the diverse needs of travelers and hospitality businesses.\n",
    "\n"
   ]
  },
  {
   "cell_type": "markdown",
   "metadata": {
    "id": "D8IbXwlHPnCb"
   },
   "source": [
    "# **Visualize the results**"
   ]
  },
  {
   "cell_type": "code",
   "execution_count": 19,
   "metadata": {
    "colab": {
     "base_uri": "https://localhost:8080/",
     "height": 564
    },
    "id": "roRUtfuePtG5",
    "outputId": "672de17a-8066-4bfe-e842-5ba16e8dbe28"
   },
   "outputs": [
    {
     "data": {
      "image/png": "[encoded data removed]",
      "text/plain": [
       "<Figure size 800x600 with 1 Axes>"
      ]
     },
     "metadata": {},
     "output_type": "display_data"
    }
   ],
   "source": [
    "import matplotlib.pyplot as plt\n",
    "\n",
    "true_ratings = [pred.r_ui for pred in predictions]\n",
    "pred_ratings = [pred.est for pred in predictions]\n",
    "\n",
    "plt.figure(figsize=(8, 6))\n",
    "plt.scatter(true_ratings, pred_ratings, alpha=0.5)\n",
    "plt.xlabel('True Rating')\n",
    "plt.ylabel('Predicted Rating')\n",
    "plt.title('SVD: True vs Predicted Ratings')\n",
    "plt.grid(True)\n",
    "plt.show()\n"
   ]
  },
  {
   "cell_type": "markdown",
   "metadata": {
    "id": "XyGwx5N6I6zX"
   },
   "source": [
    "# **Key Observations:**\n",
    "\n",
    "\n",
    "Predicted ratings are clustered mostly between 3.6 and 4.4, regardless of the actual (true) rating.\n",
    "\n",
    "This shows the model tends to predict values close to the global average, a common trait in matrix factorization\n",
    "\n",
    "models when:\n",
    "\n",
    "1. The data is sparse\n",
    "\n",
    "2. Regularization is strong\n",
    "\n",
    "3. Latent factors are not highly expressive\n",
    "\n",
    "Underestimates high ratings (4–5) and overestimates low ratings (1–2):\n",
    "\n",
    "For users who rated items as 1 or 2, the model often predicts ~3.8–4.2\n",
    "\n",
    "For actual ratings of 5, the model rarely predicts above 4.4\n",
    "\n",
    "This pattern shows the model is conservative and doesn’t take strong positions\n",
    "\n",
    "Very few predictions at the extremes:\n",
    "\n",
    "No dots near predicted rating of 1 or 5\n",
    "\n",
    "Indicates the model avoids extreme predictions, which could lead to a higher RMSE if real ratings are extreme\n",
    "\n",
    "**Issues Observed**\n",
    "\n",
    "- Flat predictions\tThe model is playing it safe—predicting close to the mean.\n",
    "\n",
    "- Weak personalization\tNot capturing enough user/item-specific behavior.\n",
    "\n",
    "- High RMSE (1.06)\tErrors come from this lack of variation and incorrect ranking."
   ]
  },
  {
   "cell_type": "markdown",
   "metadata": {
    "id": "XyGwx5N6I6zX"
   },
   "source": [
    "## Final Summary & Future Work\n",
    "\n",
    "In this project, I successfully implemented matrix factorization techniques to build a recommender system, demonstrating how methods such as Singular Value Decomposition (SVD) and Alternating Least Squares (ALS) can be leveraged to uncover latent factors in user-item interaction data. The experiments highlighted the effectiveness of these approaches in predicting user preferences and improving recommendation accuracy, as evidenced by performance metrics like RMSE.\n",
    "\n",
    "Moving forward, there are several avenues to enhance and extend this work:\n",
    "\n",
    "- **Hyperparameter Optimization:** Further tuning of model parameters (e.g., number of latent factors, regularization terms) using more exhaustive search methods or automated techniques like Bayesian optimization could yield improved accuracy.\n",
    "- **Incorporating Side Information:** Integrating additional data sources such as user demographics or item metadata could help address cold-start problems and improve personalization.\n",
    "- **Exploring Deep Learning Models:** Applying neural network-based recommender systems, including autoencoders or deep matrix factorization, might capture more complex user-item relationships.\n",
    "- **Scalability and Real-Time Recommendations:** Developing scalable solutions that handle large datasets efficiently and support real-time recommendation updates would be valuable for practical deployment.\n",
    "- **Bias and Fairness Analysis:** Investigating and mitigating potential biases in recommendations to ensure fairness and inclusivity across different user groups.\n",
    "\n",
    "Overall, this project lays a solid foundation for building and evaluating recommender systems, and the suggested future directions offer promising opportunities to further advance recommendation quality and applicability.\n"
   ]
  }
 ],
 "metadata": {
  "colab": {
   "provenance": []
  },
  "kernelspec": {
   "display_name": "Python 3 (ipykernel)",
   "language": "python",
   "name": "python3"
  },
  "language_info": {
   "codemirror_mode": {
    "name": "ipython",
    "version": 3
   },
   "file_extension": ".py",
   "mimetype": "text/x-python",
   "name": "python",
   "nbconvert_exporter": "python",
   "pygments_lexer": "ipython3",
   "version": "3.9.10"
  }
 },
 "nbformat": 4,
 "nbformat_minor": 4
}
