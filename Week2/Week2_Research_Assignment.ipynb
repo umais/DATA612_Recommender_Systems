{
  "nbformat": 4,
  "nbformat_minor": 0,
  "metadata": {
    "colab": {
      "provenance": []
    },
    "kernelspec": {
      "name": "python3",
      "display_name": "Python 3"
    },
    "language_info": {
      "name": "python"
    }
  },
  "cells": [
    {
      "cell_type": "markdown",
      "source": [
        "# **Research Discussion: Music Recommendations at Scale with Spark**\n",
        "\n",
        "**Name:** Umais Siddiqui\n",
        "\n",
        "**Class:** Data 612 - Recommender Systems\n",
        "\n",
        "**Github Link:** https://github.com/umais/DATA612_Recommender_Systems/blob/master/Week2/Week2_Research_Assignment.ipynb\n",
        "\n",
        "\n",
        "\n",
        "# **Summary and Discussion**\n",
        "\n",
        "\n",
        "In this talk, Christopher Johnson from Spotify explains the challenges and solutions for building music recommendation systems at a massive scale using Apache Spark. With millions of songs in the catalog, handling recommendations becomes very complex, and Spark helps manage this scale. Before diving into scaling, he reviews different recommendation methods like manual curation, tagging, and audio or text analysis, which don’t scale well. The main focus of his talk is on collaborative filtering the technique Spotify uses and the key topics discussed in the vdeo are as follows:\n",
        "\n",
        "\n",
        "# **Data Management Challenges**\n",
        "\n",
        "\n",
        "Spotify deals with billions of user actions every day, like song plays, skips, and searches. Handling this massive amount of data requires distributed systems that can store and process everything efficiently.\n",
        "\n",
        "Their data pipelines must take raw streaming logs and turn them into clean, usable features for machine learning models. This involves steps like filtering, transforming, and combining data.\n",
        "\n",
        "A big challenge is the trade-off between data freshness and batch processing. Spotify needs models that are both up-to-date and scalable, so their system must retrain models often and balance offline processing with near-real-time updates, especially for new users or trends.\n",
        "\n",
        "To keep everything running smoothly in production, the system also has to be fault-tolerant (able to recover from failures) and highly available, so that users always get good recommendations, even at huge scale.\n",
        "\n",
        "\n",
        "# **The Math behind the Algorithm**\n",
        "\n",
        "Spotify uses collaborative filtering, especially a method called matrix factorization, to recommend music by predicting how much a user might like a particular song. This is done using a technique called Alternating Least Squares (ALS), which is available in Spark’s MLlib and works well at scale.\n",
        "\n",
        "ALS works by finding hidden patterns (called latent factors) that explain the relationships between users and songs. It tries to reduce the difference between what the model predicts and what users actually listen to or skip.\n",
        "\n",
        "Since most of Spotify's data is implicit feedback like whether a user played or skipped a song—they use a modified version of ALS that adds confidence weights to handle uncertainty in that kind of feedback.\n",
        "\n",
        "Finally, because Spotify has to process data for millions of users and songs, running these models requires efficient distributed computing, which Spark helps with by running tasks in parallel across many machines.\n",
        "\n",
        "\n",
        "# **Interesting Points**\n",
        "\n",
        "One of the most interesting parts of the Spotify: Music Recommendations at Scale video was learning how Spotify builds its recommendation system in steps. They use terms like “second-attempt full Gradify” and “third-attempt half Gradify” to describe how they refine song suggestions across multiple stages.\n",
        "\n",
        "In the first step, Spotify quickly selects a large group of possible songs using fast techniques like collaborative filtering. In the second step (the “full Gradify”), they use more advanced machine learning models to rank those songs based on what each user likes. Then in the third step (“half Gradify”), they fine tune the list, possibly to mix in more variety or avoid songs that are too similar.\n",
        "\n",
        "This reminded me of a Towards Data Science article that also explains how breaking recommendation systems into multiple stages helps make them smarter and faster.\n",
        "\n",
        "Some other interesting things from the talk were how Spotify combines advanced math like ALS matrix factorization with powerful engineering tools like Apache Spark to handle huge amounts of data. They also pay close attention to implicit feedback—like whether someone skipped a song or listened all the way—which helps make the recommendations more accurate. I was surprised by how much of the work is not just about algorithms, but also about making sure everything runs fast and scales well. The talk really showed how real-world recommendation systems need both smart models and strong system design to work well at a global scale.\n",
        "\n",
        "# **Final Thoughts**\n",
        "\n",
        "Recommender systems will keep getting better by combining smart math models with strong engineering, like Spotify showed using ALS and Spark. The video and article both highlight that it’s not just about accuracy but also about handling huge amounts of data quickly and fairly.\n",
        "\n",
        "In the future, these systems need to focus more on ethics avoiding bias and promoting diverse content so they don’t just give users what they already like but also help them discover new things safely. Overall, recommender systems will become more powerful but also need to be fair and responsible to have a positive impact.\n",
        "\n",
        "\n",
        "\n",
        "# **References**\n",
        "\n",
        "- Johnson, C. (2014). Music Recommendations at Scale with Spark. YouTube Video.\n",
        "\n",
        "- Malkov, A. (2020). Multi-Stage Approach to Building Recommender Systems. Towards Data Science. Retrieved from: https://towardsdatascience.com/multi-stage-approach-to-building-recommender-systems-a3e0c39467d3\n",
        "\n",
        "\n",
        "\n"
      ],
      "metadata": {
        "id": "8uq3uTHtSo6_"
      }
    }
  ]
}