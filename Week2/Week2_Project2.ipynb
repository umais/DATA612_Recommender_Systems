{
  "cells": [
    {
      "cell_type": "markdown",
      "metadata": {
        "id": "HDCMOd0wtHoJ"
      },
      "source": [
        "# **DATA 612 Project 2 |  Content-Based and Collaborative Filtering**\n",
        "\n",
        "**Name:** Umais Siddiqui\n",
        "\n",
        "**Class:** Data 612 - Recommender Systems\n",
        "\n",
        "**Github Link:** https://github.com/umais/DATA612_Recommender_Systems/blob/master/Week1/Week2_Project2.ipynb"
      ]
    },
    {
      "cell_type": "markdown",
      "metadata": {
        "id": "cQ-SB6Mg4J4g"
      },
      "source": [
        "#**Introduction**\n",
        "\n",
        "In this assignment I will building beyond the basic global baseline reccommender system created in assignment 1 and implement the following\n",
        "\n",
        " - Content-Based Filtering\n",
        " - User-User Collaborative Filtering\n",
        "\n",
        "I will evaluate and compare different approaches, using different algorithms,\n",
        "normalization techniques, similarity methods, cleanliness, etc.  \n",
        "\n",
        "For the data I will use the existing **data.csv** from Huggingface for the trip advisor hotel reviews.\n",
        "\n",
        "# **What is Content-Based Filtering**\n",
        "\n",
        "Content-Based Filtering is a recommendation technique that relies on comparing item features to a user's past preferences. Instead of relying on what other users like (as in collaborative filtering), it tries to understand the attributes of items a user likes and recommends similar items.\n",
        "\n",
        "### Examples\n",
        "\n",
        "In my case I am building a recommendation system for hotels. Each hotel has attributes (features) like:\n",
        "\n",
        "- Sleep Quality (1–5)\n",
        "\n",
        "- Comfort (1–5)\n",
        "\n",
        "- Cleanliness (1–5)\n",
        "\n",
        "- Location (1–5)\n",
        "\n",
        "- Value (1–5)\n",
        "\n",
        "Now imagine a user has rated 3 hotels like this:\n",
        "\n",
        "| Hotel | Sleep | Comfort | Cleanliness | Location | Value | User Rating |\n",
        "| ----- | ----- | ------- | ----------- | -------- | ----- | ----------- |\n",
        "| A     | 5     | 4       | 5           | 3        | 4     | 4.5         |\n",
        "| B     | 4     | 5       | 4           | 2        | 3     | 4.0         |\n",
        "| C     | 1     | 2       | 3           | 5        | 2     | 1.5         |\n",
        "\n",
        "\n",
        "From these, we can build a user profile that summarizes what this user tends to prefer in a hotel.\n",
        "\n",
        "How Does It Work Mathematically?\n",
        "Create Feature Vectors for Hotels\n",
        "Each hotel is a vector of its features:\n",
        "\n",
        "Hotel A → [5, 4, 5, 3, 4]\n",
        "\n",
        "Hotel B → [4, 5, 4, 2, 3]\n",
        "\n",
        "Hotel C → [1, 2, 3, 5, 2]\n",
        "\n",
        "Build the User Profile\n",
        "To find what features the user likes, we take the weighted average of hotel features using the user’s ratings as weights.\n",
        "\n",
        "\n"
      ]
    },
    {
      "cell_type": "code",
      "execution_count": null,
      "metadata": {
        "colab": {
          "base_uri": "https://localhost:8080/",
          "height": 452
        },
        "id": "7pYkwwVTM18w",
        "outputId": "31adc657-3c83-44c9-c56d-0af2831a42b0"
      },
      "outputs": [
        {
          "data": {
            "image/png": "[encoded data removed]",
            "text/plain": [
              "<Figure size 640x480 with 1 Axes>"
            ]
          },
          "metadata": {},
          "output_type": "display_data"
        }
      ],
      "source": [
        "import matplotlib.pyplot as plt\n",
        "\n",
        "features = [\"Sleep\", \"Comfort\", \"Cleanliness\", \"Location\", \"Value\"]\n",
        "user_profile = [4.0, 4.1, 4.3, 2.9, 3.3]\n",
        "\n",
        "plt.bar(features, user_profile, color='skyblue')\n",
        "plt.title(\"User Preference Profile\")\n",
        "plt.ylim(0, 5)\n",
        "plt.ylabel(\"Preference Score\")\n",
        "plt.show()\n"
      ]
    },
    {
      "cell_type": "markdown",
      "metadata": {
        "id": "ZKOKfT7zPia1"
      },
      "source": [
        "#**Implementation Plan:**\n",
        "\n",
        "**1. Create item profiles:** Vectorize hotel features like cleanliness, sleep_quality, stay_year.\n",
        "\n",
        "**2. Create user profiles:** Average the vectors of items the user rated highly.\n",
        "\n",
        "**3. Calculate similarity:** Use cosine similarity between user and hotel vectors.\n",
        "\n",
        "**4. Predict ratings:** Predict a score by calculating similarity-weighted average.\n",
        "\n",
        "### What Does “Vectorizing Features” Mean?\n",
        "Vectorizing is the process of converting real world data into a numerical format that a machine learning model or recommender system can understand and work with. In our case, we’re converting hotel features (like cleanliness) into a feature vector, which is just a list (or array) of numbers.\n",
        "\n",
        "**Example:** Hotel Features\n",
        "Let’s say each hotel has three descriptive features:\n",
        "\n",
        "- Cleanliness: Rated from 1 to 5\n",
        "\n",
        "- Sleep Quality: Rated from 1 to 5\n",
        "\n",
        "- Stay Year: The year the hotel stay occurred (e.g., 2022)"
      ]
    },
    {
      "cell_type": "code",
      "execution_count": null,
      "metadata": {
        "id": "WGGGoeeBQET7"
      },
      "outputs": [],
      "source": [
        "Hotel_X = {\n",
        "  'cleanliness': 4,\n",
        "  'sleep_quality': 5,\n",
        "  'stay_year': 2022\n",
        "}\n"
      ]
    },
    {
      "cell_type": "markdown",
      "metadata": {
        "id": "vkx2GawzQQF1"
      },
      "source": [
        "Above is an example of what a vector woud look like .\n",
        "\n",
        "**Vectorizing allows us to:**\n",
        "\n",
        "- Compare hotels using math (e.g., cosine similarity)\n",
        "\n",
        "- Train machine learning models for prediction or clustering\n",
        "\n",
        "- Calculate distances or similarities between a user profile and a hotel"
      ]
    },
    {
      "cell_type": "markdown",
      "metadata": {
        "id": "395aB8-MDNNz"
      },
      "source": [
        "# Cosine Similarity Explained\n",
        "\n",
        "Cosine similarity measures how similar two vectors are **by the angle between them**, rather than their magnitude.\n",
        "\n",
        "It is widely used in:\n",
        "\n",
        "- Recommender Systems (e.g., Content-Based Filtering)\n",
        "- Text Mining (e.g., TF-IDF)\n",
        "- Clustering Algorithms\n",
        "\n",
        "---\n",
        "\n",
        "## Formula\n",
        "\n",
        "Given two vectors **A** and **B**, the cosine similarity is calculated as:\n",
        "\n",
        "\\[\n",
        "\\text{Cosine Similarity} = \\frac{A \\cdot B}{\\|A\\| \\cdot \\|B\\|}\n",
        "\\]\n",
        "\n",
        "Where:\n",
        "\n",
        "- \\( A \\c dot B \\): Dot product of A and B  \n",
        "- \\( \\|A\\| \\): Magnitude of vector A  \n",
        "- \\( \\|B\\| \\): Magnitude of vector B\n",
        "\n",
        "\n",
        "# **Implementation**\n",
        "\n",
        "I will be doing the implementation in small steps and explaining each piece of the code.\n",
        "\n",
        "The code starts with reading the data from the csv file and then filtering it down to a reasonable data set using users have rated more than 2 hotels. This will cut down the data to process and also give us some reasonable ratings to deal with."
      ]
    },
    {
      "cell_type": "code",
      "execution_count": 2,
      "metadata": {
        "colab": {
          "base_uri": "https://localhost:8080/"
        },
        "id": "dUTSBzN-F2dn",
        "outputId": "85dd1730-84b3-48f3-feeb-93e2f40df48c"
      },
      "outputs": [
        {
          "output_type": "stream",
          "name": "stdout",
          "text": [
            "Original rows: (201295, 17)\n",
            "After dropping NAs: (201295, 17)\n",
            "After filtering users: (10889, 17)\n",
            "Unique users: 2219\n",
            "Unique hotels: 10889\n"
          ]
        }
      ],
      "source": [
        "import pandas as pd\n",
        "import numpy as np\n",
        "from sklearn.metrics.pairwise import cosine_similarity\n",
        "from sklearn.preprocessing import StandardScaler\n",
        "from sklearn.metrics import mean_squared_error\n",
        "from sklearn.model_selection import train_test_split\n",
        "from sklearn.feature_extraction.text import TfidfVectorizer\n",
        "from scipy.sparse import hstack\n",
        "\n",
        "# Load data\n",
        "df = pd.read_csv(\"data.csv\")\n",
        "print(\"Original rows:\", df.shape)\n",
        "\n",
        "# Drop missing values in required fields\n",
        "df = df.dropna(subset=['overall', 'review', 'cleanliness', 'value', 'location', 'rooms', 'sleep_quality'])\n",
        "print(\"After dropping NAs:\", df.shape)\n",
        "\n",
        "# Filter users with at least 4 reviews\n",
        "user_counts = df['user_id'].value_counts()\n",
        "df = df[df['user_id'].isin(user_counts[user_counts >= 4].index)]\n",
        "print(\"After filtering users:\", df.shape)\n",
        "print(\"Unique users:\", df['user_id'].nunique())\n",
        "print(\"Unique hotels:\", df['hotel_id'].nunique())\n"
      ]
    },
    {
      "cell_type": "markdown",
      "metadata": {
        "id": "YYypwmcrTbMp"
      },
      "source": [
        "### **Train/Test Split , Data Transformations and Global Mean Average**\n",
        "As you can see the total number of records we are dealing with is 10889 ratings out of 201295. Now with this subset we will split it in to training and test data sets below. We will also be performing .transformations to be able to write the algorithm for Content-Based Filtering. Below are some transformations that will be done\n",
        "\n",
        "**1. Fit TF-IDF on train review texts**\n",
        "\n",
        "- Think of this like turning words into numbers.\n",
        "\n",
        "- TF-IDF takes hotel review text and finds the top 100 most important words (based on how unique and relevant they are).\n",
        "\n",
        "- Then it creates a table of numbers showing how much each review talks about these important words.\n",
        "\n",
        "- This helps the model understand what users are talking about in reviews (e.g., “clean,” “noisy,” “friendly staff”).\n",
        "\n",
        "**2. Standardize Hotel Features**\n",
        "\n",
        "- Hotels have numerical features (like how clean they are, how good the value is, etc.).\n",
        "\n",
        "- These numbers are standardized to put them on the same scale (otherwise some big numbers would dominate the model).\n",
        "\n",
        "- It's like converting everything to a fair 0–1 scale so comparisons are meaningful.\n",
        "\n",
        "**3. Combine Text and Numeric Features**\n",
        "\n",
        "- Now we combine the review-based features (TF-IDF) with numerical hotel ratings (like cleanliness).\n",
        "\n",
        "- Each hotel is now represented as a long row of numbers — some from the text reviews, and some from hotel ratings.\n",
        "\n",
        "- hstack means horizontal stack — we’re sticking two types of data side-by-side.\n",
        "\n",
        "**4. Organize by Hotel**\n",
        "\n",
        "- We convert everything into a pandas table.\n",
        "\n",
        "- Each hotel might appear multiple times in the training data (because many users rated it).\n",
        "\n",
        "- So, we take the average of the features for each hotel to create a single profile per hotel.\n",
        "\n",
        "**5. Build a Profile for each user**\n",
        "\n",
        "For each user:\n",
        "\n",
        "- I look at which hotels they rated.\n",
        "\n",
        "- I find the feature vectors for those hotels.\n",
        "\n",
        "- Then I take a weighted average of those hotel vectors, using the user’s actual ratings (e.g., if they loved a hotel, that hotel’s features count more).\n",
        "\n",
        "- This becomes the user’s profile a kind of fingerprint of what kind of hotel they like.\n",
        "\n"
      ]
    },
    {
      "cell_type": "code",
      "execution_count": 3,
      "metadata": {
        "colab": {
          "base_uri": "https://localhost:8080/"
        },
        "id": "b8E6o1fdSCLa",
        "outputId": "36bd45b3-ffc0-4ed0-8438-37e5df4d70a8"
      },
      "outputs": [
        {
          "output_type": "stream",
          "name": "stdout",
          "text": [
            "Train size: (7622, 17)\n",
            "Test size: (3267, 17)\n",
            "Global Mean: 3.9178693256363157\n"
          ]
        }
      ],
      "source": [
        "\n",
        "\n",
        "# Random train-test split by rows (70% train, 30% test)\n",
        "train_df, test_df = train_test_split(df, test_size=0.3, random_state=42)\n",
        "print(\"Train size:\", train_df.shape)\n",
        "print(\"Test size:\", test_df.shape)\n",
        "\n",
        "# Fit TF-IDF on train review texts\n",
        "tfidf = TfidfVectorizer(max_features=100)\n",
        "tfidf_matrix = tfidf.fit_transform(train_df['review'])\n",
        "\n",
        "# Normalize numeric hotel features\n",
        "num_cols = ['cleanliness', 'value', 'location', 'rooms', 'sleep_quality']\n",
        "scaler = StandardScaler()\n",
        "scaled_numerical = scaler.fit_transform(train_df[num_cols])\n",
        "\n",
        "# Combine TF-IDF features and numeric features\n",
        "hotel_ids = train_df['hotel_id'].values\n",
        "hotel_features_matrix = hstack([tfidf_matrix, scaled_numerical])\n",
        "\n",
        "# Create DataFrame from combined features and add hotel_id\n",
        "hotel_features_df = pd.DataFrame(hotel_features_matrix.toarray())\n",
        "hotel_features_df['hotel_id'] = hotel_ids\n",
        "\n",
        "# Compute average feature vector per hotel\n",
        "hotel_vectors = hotel_features_df.groupby('hotel_id').mean()\n",
        "\n",
        "# Build user profiles by weighted average of hotel vectors\n",
        "user_profiles = {}\n",
        "for user_id in train_df['user_id'].unique():\n",
        "    user_data = train_df[train_df['user_id'] == user_id]\n",
        "    rated_hotels = user_data['hotel_id'].values\n",
        "    ratings = user_data['overall'].values\n",
        "    # Select hotel vectors for rated hotels, skip if hotel_id not found\n",
        "    available_hotels = [hid for hid in rated_hotels if hid in hotel_vectors.index]\n",
        "    if not available_hotels:\n",
        "        continue\n",
        "    vectors = hotel_vectors.loc[available_hotels]\n",
        "    user_profile = np.average(vectors.values, axis=0, weights=ratings[:len(available_hotels)])\n",
        "    user_profiles[user_id] = user_profile.reshape(1, -1)\n",
        "\n",
        "# Global average rating for fallback\n",
        "global_mean = train_df['overall'].mean()\n",
        "print(\"Global Mean:\", global_mean)\n",
        "\n",
        "\n"
      ]
    },
    {
      "cell_type": "markdown",
      "source": [
        "# Creating the content based Prediction function\n",
        "\n",
        "Now that I have  the following\n",
        "\n",
        "- A vector for each hotel.\n",
        "\n",
        "- A vector for each user.\n",
        "\n",
        "I will now match them using cosine similarity to recommend hotels that fit each user’s profile.\n",
        "\n",
        "I will also be calculating the RMSE for this to check its perfromance."
      ],
      "metadata": {
        "id": "u1AO-feHFw_E"
      }
    },
    {
      "cell_type": "code",
      "execution_count": 9,
      "metadata": {
        "colab": {
          "base_uri": "https://localhost:8080/"
        },
        "id": "VpPX1s0UT297",
        "outputId": "99b3981a-277c-49be-cb13-66771901d52e"
      },
      "outputs": [
        {
          "output_type": "stream",
          "name": "stdout",
          "text": [
            "\n",
            " RMSE on Test Set: 0.9443\n"
          ]
        }
      ],
      "source": [
        "# Prediction function\n",
        "def content_based_predict(user_id, hotel_id):\n",
        "    if user_id not in user_profiles or hotel_id not in hotel_vectors.index:\n",
        "        return global_mean\n",
        "    user_vec = user_profiles[user_id]\n",
        "    hotel_vec = hotel_vectors.loc[hotel_id].values.reshape(1, -1)\n",
        "    sim = cosine_similarity(user_vec, hotel_vec)[0][0]\n",
        "    # Scale similarity to rating range (1-5)\n",
        "    rating_pred = 1 + 4 * sim\n",
        "    return np.clip(rating_pred, 1, 5)\n",
        "\n",
        "# Predict on test set and evaluate RMSE\n",
        "y_true, y_pred = [], []\n",
        "for _, row in test_df.iterrows():\n",
        "    y_true.append(row['overall'])\n",
        "    y_pred.append(content_based_predict(row['user_id'], row['hotel_id']))\n",
        "\n",
        "if y_true:\n",
        "    cb_rmse = np.sqrt(mean_squared_error(y_true, y_pred))\n",
        "    print(f\"\\n RMSE on Test Set: {cb_rmse:.4f}\")\n",
        "else:\n",
        "    print(\" Test set is empty or no predictions were made.\")\n",
        "\n",
        "\n",
        "\n",
        "\n",
        "\n",
        "\n",
        "\n",
        "\n"
      ]
    },
    {
      "cell_type": "markdown",
      "source": [
        "# **TOP 10 Recommendations**"
      ],
      "metadata": {
        "id": "iWGYYEcWGVbp"
      }
    },
    {
      "cell_type": "code",
      "execution_count": 5,
      "metadata": {
        "colab": {
          "base_uri": "https://localhost:8080/"
        },
        "id": "zcOyD4hOVrex",
        "outputId": "217a3faa-9957-476e-8357-9626ae3acd47"
      },
      "outputs": [
        {
          "output_type": "stream",
          "name": "stdout",
          "text": [
            "Top 10 Recommended Hotels for User: 5E37EF0E4A6EF6B943AE7580DB2250D5\n",
            "1. 141255663 — Predicted Rating: 4.48\n",
            "2. 136519693 — Predicted Rating: 4.47\n",
            "3. 123509192 — Predicted Rating: 4.47\n",
            "4. 128588299 — Predicted Rating: 4.46\n",
            "5. 143555362 — Predicted Rating: 4.46\n",
            "6. 133411665 — Predicted Rating: 4.44\n",
            "7. 128462011 — Predicted Rating: 4.44\n",
            "8. 127647012 — Predicted Rating: 4.43\n",
            "9. 140203633 — Predicted Rating: 4.43\n",
            "10. 125515129 — Predicted Rating: 4.42\n"
          ]
        }
      ],
      "source": [
        "\n",
        "\n",
        "def get_top_n_recommendations(user_id, n=10):\n",
        "    # Get all hotel_ids from the training set\n",
        "    all_hotels = hotel_vectors.index.unique()\n",
        "\n",
        "    # Get hotels this user has already rated\n",
        "    rated_hotels = train_df[train_df['user_id'] == user_id]['hotel_id'].unique()\n",
        "\n",
        "    # Filter out already rated hotels\n",
        "    candidate_hotels = [hotel for hotel in all_hotels if hotel not in rated_hotels]\n",
        "\n",
        "    # Predict ratings for each candidate hotel\n",
        "    predictions = []\n",
        "    for hotel_id in candidate_hotels:\n",
        "        pred_rating = content_based_predict(user_id, hotel_id)\n",
        "        predictions.append((hotel_id, pred_rating))\n",
        "\n",
        "    # Sort by predicted rating in descending order\n",
        "    predictions.sort(key=lambda x: x[1], reverse=True)\n",
        "\n",
        "    # Return top-N\n",
        "    return predictions[:n]\n",
        "\n",
        "\n",
        "# Pick a user from your dataset\n",
        "sample_user = train_df['user_id'].iloc[0]\n",
        "\n",
        "\n",
        "\n",
        "# Get top 10 recommended hotels\n",
        "top_10 = get_top_n_recommendations(sample_user, n=10)\n",
        "\n",
        "\n",
        "\n",
        "print(\"Top 10 Recommended Hotels for User:\", sample_user)\n",
        "\n",
        "for rank, (hotel_id, pred_rating) in enumerate(top_10, start=1):\n",
        "    # Get hotel name and location\n",
        "    hotel_info = df[df['hotel_id'] == hotel_id].iloc[0]\n",
        "    name = hotel_info['title']\n",
        "    location = hotel_info['location']\n",
        "\n",
        "    print(f\"{rank}. {hotel_id} — Predicted Rating: {pred_rating:.2f}\")\n"
      ]
    },
    {
      "cell_type": "markdown",
      "metadata": {
        "id": "8OGRoWQdQhCq"
      },
      "source": [
        "# **Improving the Content-Based using Machine Learning Model**\n",
        "\n",
        "### **Random Forest vs Histogram Gradient Boosting for Content-Based Recommendations**\n",
        "\n",
        "In content-based recommendation systems, the goal is to predict how much a user will like an item based on the item's features — things like cleanliness, location, or review text for hotels. Machine learning models such as Random Forest and Histogram Gradient Boosting (HGB) can help make these predictions by learning from past user ratings.\n",
        "\n",
        "**Random Forest** works by building many decision trees on random subsets of the data and features, then averaging their predictions. This approach handles a mix of feature types well and is good at preventing overfitting. It’s a solid, reliable choice for many recommendation tasks.\n",
        "\n",
        "On the other hand, **Histogram Gradient Boosting** builds trees sequentially, with each new tree trying to fix errors made by the previous ones. It’s particularly well suited for large datasets and high-dimensional or sparse data, like text represented by TF-IDF features. This makes it a strong candidate when your features include a lot of text or other complex data.\n",
        "\n",
        "Both models take the processed item features as inputs, learn the relationship between features and user preferences from training data, and then predict ratings for new items to generate recommendations.\n",
        "\n",
        "This explanation and comparison of Random Forest and Histogram Gradient Boosting come from the scikit-learn documentation, which highlights their algorithmic differences, speed, and performance in regression tasks.\n",
        "\n",
        "**Use Case Suitability**\n",
        "\n",
        "**Random Forest:**\n",
        "\n",
        "- Good for smaller datasets, low dimensionality, or when interpretability of individual trees matters.\n",
        "\n",
        "- Robust, easy to tune.\n",
        "\n",
        "**HistGradientBoostingRegressor:**\n",
        "\n",
        "- Better for large datasets, high-dimensional and sparse data (like text features).\n",
        "\n",
        "When you want better predictive performance and faster training on complex data.\n",
        "\n",
        "**References**\n",
        "\n",
        "scikit-learn developers. (2024). Comparing random forests and histogram gradient boosting models. scikit-learn.org. https://scikit-learn.org/stable/auto_examples/ensemble/plot_forest_hist_grad_boosting_comparison.html"
      ]
    },
    {
      "cell_type": "code",
      "execution_count": 6,
      "metadata": {
        "colab": {
          "base_uri": "https://localhost:8080/"
        },
        "id": "wW6pb57_Ln9D",
        "outputId": "74d78960-4464-435f-83a0-33637f19392d"
      },
      "outputs": [
        {
          "output_type": "stream",
          "name": "stdout",
          "text": [
            "HistGradientBoostingRegressor RMSE: 0.5079\n"
          ]
        }
      ],
      "source": [
        "\n",
        "\n",
        "from sklearn.pipeline import Pipeline\n",
        "from sklearn.compose import ColumnTransformer\n",
        "from sklearn.preprocessing import StandardScaler, OneHotEncoder\n",
        "from sklearn.feature_extraction.text import TfidfVectorizer\n",
        "from sklearn.ensemble import HistGradientBoostingRegressor\n",
        "from sklearn.model_selection import train_test_split\n",
        "from sklearn.metrics import mean_squared_error\n",
        "import numpy as np\n",
        "\n",
        "# TF-IDF max features\n",
        "tfidf_max_features = 100\n",
        "\n",
        "# Add review length feature (keep as is, it's fast)\n",
        "df['review_length'] = df['review'].apply(lambda x: len(str(x).split()))\n",
        "\n",
        "numerical_features = ['cleanliness', 'sleep_quality', 'stay_year', 'review_length']\n",
        "categorical_features = ['location', 'rooms']\n",
        "text_feature = 'review'\n",
        "\n",
        "numerical_pipeline = Pipeline([\n",
        "    ('scaler', StandardScaler())\n",
        "])\n",
        "\n",
        "categorical_pipeline = Pipeline([\n",
        "    ('onehot', OneHotEncoder(handle_unknown='ignore', sparse_output=True))  # Keep sparse for efficiency\n",
        "])\n",
        "\n",
        "preprocessor = ColumnTransformer(\n",
        "    transformers=[\n",
        "        ('num', numerical_pipeline, numerical_features),\n",
        "        ('cat', categorical_pipeline, categorical_features),\n",
        "        ('tfidf', TfidfVectorizer(max_features=tfidf_max_features), text_feature)\n",
        "    ],\n",
        "    remainder='drop',\n",
        "    sparse_threshold=0.3  # Keep output sparse if more than 30% sparse (default is 0.3)\n",
        ")\n",
        "\n",
        "# Train-test split\n",
        "train_df, test_df = train_test_split(df, test_size=0.2, random_state=42)\n",
        "\n",
        "# Fit and transform training data\n",
        "X_train = preprocessor.fit_transform(train_df)\n",
        "y_train = train_df['overall']\n",
        "\n",
        "# Transform test data\n",
        "X_test = preprocessor.transform(test_df)\n",
        "y_test = test_df['overall']\n",
        "\n",
        "# Use faster gradient boosting that handles sparse input natively\n",
        "model = HistGradientBoostingRegressor(random_state=42)\n",
        "\n",
        "# Train model (faster than RandomForest on sparse data)\n",
        "model.fit(X_train, y_train)\n",
        "\n",
        "# Predict on test set\n",
        "y_pred = model.predict(X_test)\n",
        "\n",
        "rmse = np.sqrt(mean_squared_error(y_test, y_pred))\n",
        "print(f\"HistGradientBoostingRegressor RMSE: {rmse:.4f}\")\n"
      ]
    },
    {
      "cell_type": "markdown",
      "source": [
        "The code above builds a machine learning model to predict hotel ratings based on various types of data including numerical ratings, categorical info (like location), and text reviews.\n",
        "\n",
        "**Preprocess the data:**\n",
        "\n",
        "- Normalize numerical features (e.g., cleanliness, review length).\n",
        "\n",
        "- One-hot encode categorical features (e.g., room type).\n",
        "\n",
        "- Use TF-IDF to extract important words from review text.\n",
        "\n",
        "**Split the data:**\n",
        "\n",
        "- 80% is used to train the model, 20% is used to test how well it performs.\n",
        "\n",
        "**Train the model:**\n",
        "\n",
        "- A fast and efficient gradient boosting model (HistGradientBoostingRegressor) is trained on the processed features.\n",
        "\n",
        "**Make predictions and evaluate performance:**\n",
        "\n",
        "- Predicts hotel ratings for the test set.\n",
        "\n",
        "- Calculates RMSE (Root Mean Squared Error) to measure how accurate the predictions are.\n",
        "\n",
        "- The entire process is streamlined using a Pipeline, so data flows smoothly from raw to predictions."
      ],
      "metadata": {
        "id": "KOgBx7qVG5vc"
      }
    },
    {
      "cell_type": "markdown",
      "metadata": {
        "id": "i6PZpJgGfx3Z"
      },
      "source": [
        "#User-User Collaborative Filtering\n",
        "\n",
        "This code below implements User-User Collaborative Filtering (UCF) to predict hotel ratings based on the preferences of similar users. It first creates a user-hotel ratings matrix and fills in missing ratings with zeros. Then, it computes the cosine similarity between users to measure how similar their preferences are. For any given prediction, it finds the top-k most similar users who have rated the target hotel and calculates a weighted average of their ratings, using similarity scores as weights. If no similar users are found, it falls back to the global average rating. Finally, the model is evaluated on a test set by comparing predicted ratings to actual ratings using Root Mean Squared Error (RMSE)."
      ]
    },
    {
      "cell_type": "code",
      "execution_count": 7,
      "metadata": {
        "id": "iosBuJl6fwO3",
        "colab": {
          "base_uri": "https://localhost:8080/"
        },
        "outputId": "1c13eeff-2f37-4c0a-ded3-d1b5786d6fa0"
      },
      "outputs": [
        {
          "output_type": "stream",
          "name": "stdout",
          "text": [
            "User-User Collaborative Filtering RMSE: 0.9443\n"
          ]
        }
      ],
      "source": [
        "# -----------------------\n",
        "# User-User Collaborative Filtering\n",
        "# -----------------------\n",
        "user_item_matrix = train_df.pivot_table(index='user_id', columns='hotel_id', values='overall')\n",
        "filled_matrix = user_item_matrix.fillna(0)\n",
        "\n",
        "# Compute cosine similarity between users\n",
        "user_sim_matrix = cosine_similarity(filled_matrix)\n",
        "user_sim_df = pd.DataFrame(user_sim_matrix, index=filled_matrix.index, columns=filled_matrix.index)\n",
        "\n",
        "def ucf_predict(user_id, hotel_id, k=5):\n",
        "    # If user or hotel not in training data, fallback to global mean\n",
        "    if user_id not in filled_matrix.index or hotel_id not in filled_matrix.columns:\n",
        "        return global_mean\n",
        "\n",
        "    # Similarity scores for the user to all other users\n",
        "    sim_scores = user_sim_df.loc[user_id]\n",
        "    # Ratings of the hotel by all users\n",
        "    hotel_ratings = filled_matrix[hotel_id]\n",
        "\n",
        "    # Filter users who have rated this hotel (>0)\n",
        "    rated_by_users = hotel_ratings[hotel_ratings > 0].index\n",
        "    sim_scores = sim_scores.loc[rated_by_users]\n",
        "\n",
        "    if sim_scores.empty:\n",
        "        # No other users have rated this hotel\n",
        "        return global_mean\n",
        "\n",
        "    # Get top-k most similar users who rated the hotel\n",
        "    top_k = sim_scores.sort_values(ascending=False).head(k)\n",
        "\n",
        "    # Corresponding ratings from those users\n",
        "    top_ratings = hotel_ratings.loc[top_k.index]\n",
        "\n",
        "    # Weighted average of ratings by similarity\n",
        "    sim_sum = top_k.sum()\n",
        "    if sim_sum == 0:\n",
        "        return global_mean\n",
        "\n",
        "    pred_rating = np.dot(top_k, top_ratings) / sim_sum\n",
        "\n",
        "    # Clip rating to valid range (1-5)\n",
        "    return np.clip(pred_rating, 1, 5)\n",
        "\n",
        "# -----------------------\n",
        "# Evaluate User-User Collaborative Filtering\n",
        "# -----------------------\n",
        "ucf_preds = []\n",
        "actual_ratings = []\n",
        "\n",
        "for row in test_df.itertuples(index=False):\n",
        "    uid = row.user_id\n",
        "    hid = row.hotel_id\n",
        "    rating = row.overall\n",
        "    actual_ratings.append(rating)\n",
        "    pred = ucf_predict(uid, hid)\n",
        "    ucf_preds.append(pred)\n",
        "\n",
        "if actual_ratings:\n",
        "    ucf_rmse = np.sqrt(mean_squared_error(actual_ratings, ucf_preds))\n",
        "    print(f\"User-User Collaborative Filtering RMSE: {ucf_rmse:.4f}\")\n",
        "else:\n",
        "    print(\" Test set is empty or no predictions made for User-User CF.\")\n",
        "\n",
        ""
      ]
    },
    {
      "cell_type": "markdown",
      "source": [
        "# **Comparing Results**\n",
        "\n",
        "This code below generates a bar chart to visually compare the performance of three recommendation methods—Content-Based Filtering, Content-Based with Gradient Boosting (HGB), and User-User Collaborative Filtering—using their RMSE (Root Mean Squared Error) scores. Each bar represents the RMSE value for a method, with value labels displayed above for clarity. The lower the RMSE, the better the model's prediction accuracy. The chart helps quickly identify which method performed best."
      ],
      "metadata": {
        "id": "wCXqCgg78wjY"
      }
    },
    {
      "cell_type": "code",
      "source": [
        "import matplotlib.pyplot as plt\n",
        "\n",
        "\n",
        "\n",
        "# Labels and values\n",
        "methods = ['Content-Based Filtering','Content-Based HGB', 'User-User CF' ]\n",
        "rmse_scores = [cb_rmse,rmse, ucf_rmse, ]\n",
        "\n",
        "# Create bar plot\n",
        "plt.figure(figsize=(8, 5))\n",
        "bars = plt.bar(methods, rmse_scores, color=['skyblue', 'lightgreen', 'orange'])\n",
        "plt.title('RMSE Comparison of Recommendation Methods')\n",
        "plt.ylabel('RMSE')\n",
        "plt.ylim(0, max(rmse_scores) + 0.1)\n",
        "\n",
        "# Add value labels on bars\n",
        "for bar in bars:\n",
        "    height = bar.get_height()\n",
        "    plt.text(bar.get_x() + bar.get_width()/2, height, f'{height:.4f}', ha='center', va='bottom')\n",
        "\n",
        "plt.grid(axis='y', linestyle='--', alpha=0.6)\n",
        "plt.tight_layout()\n",
        "plt.show()"
      ],
      "metadata": {
        "colab": {
          "base_uri": "https://localhost:8080/",
          "height": 507
        },
        "id": "ilUYFb5W82wd",
        "outputId": "aee58504-431c-4db4-e44d-1bda73d1f035"
      },
      "execution_count": 10,
      "outputs": [
        {
          "output_type": "display_data",
          "data": {
            "text/plain": [
              "<Figure size 800x500 with 1 Axes>"
            ],
            "image/png": "[encoded data removed]"
          },
          "metadata": {}
        }
      ]
    },
    {
      "cell_type": "markdown",
      "source": [
        "# **Result Analysis**\n",
        "\n",
        "**Content-Based Filtering (~0.93 RMSE):** This method relies on item features (e.g., hotel reviews, cleanliness, location) and user profiles built from those features. The RMSE near 0.93 means the predictions have moderate error. This is a decent baseline but shows room for improvement, likely because it doesn’t leverage user behavior beyond individual preferences.\n",
        "\n",
        "**Content-Based + Machine Learning (~0.51 RMSE):** Incorporating a machine learning model (like **Hist GradientBoosting Regressor**) to predict ratings using both textual and numeric features drastically reduces RMSE to about 0.51. This suggests the model is capturing complex patterns and interactions that pure similarity-based methods miss. It’s the strongest performer among the three and indicates a better fit to the data.\n",
        "\n",
        "**User-User Collaborative Filtering (~0.94 RMSE):** This method uses user similarity based on rating patterns without considering item content. Its RMSE is comparable to pure content-based filtering but slightly worse. This implies user-based CF alone may struggle due to data sparsity or cold start issues (new users or items with few ratings).\n",
        "\n",
        "# **Insights**\n",
        "\n",
        "**Machine learning helps:** The big RMSE drop in the content-based ML model shows predictive models using engineered features can improve recommendation accuracy significantly.\n",
        "\n",
        "**Collaborative filtering struggles with sparsity:** Your user-item matrix likely has many missing values, making similarity unreliable. This results in higher error.\n",
        "\n",
        "**Content-based and CF have similar baseline performance:** This means both user preferences and item attributes carry similar predictive power in your data, but neither is perfect on its own.\n",
        "\n",
        "# **What can be done in future to improve?**\n",
        "\n",
        "**Hybrid recommendation systems:**\n",
        "\n",
        "Combine collaborative filtering and content-based methods to leverage both user interactions and item features simultaneously. Hybrid approaches often improve accuracy by compensating for each method’s weaknesses.\n",
        "\n",
        "**Advanced matrix factorization or embedding methods:**\n",
        "\n",
        "Use techniques like SVD, ALS, or neural embeddings (e.g., Word2Vec on user-item interactions or deep learning embeddings) to better capture latent factors and relationships.\n",
        "\n",
        "**Deep learning & neural networks:**\n",
        "\n",
        "Explore models like neural collaborative filtering or transformers that learn nonlinear interactions between users and items and can incorporate text and numerical data jointly.\n",
        "\n",
        "**Improve feature engineering:**\n",
        "\n",
        "Extract richer features from reviews (e.g., sentiment scores, topic modeling) or metadata (e.g., hotel category, location clustering) to feed into ML models.\n",
        "\n",
        "**Address cold-start problem:**\n",
        "\n",
        "Develop methods to recommend items/users with little historical data, e.g., through content attributes, demographic info, or session-based recommendations.\n",
        "\n",
        "**Use more data and feedback loops:**\n",
        "\n",
        "Incorporate more implicit feedback (clicks, views) or explicit feedback and retrain models regularly to adapt to changing preferences.\n",
        "\n",
        "**Parameter tuning and cross-validation:**\n",
        "\n",
        "Optimize hyperparameters for ML models, similarity thresholds, number of neighbors, and explore different similarity metrics (Pearson, Jaccard)."
      ],
      "metadata": {
        "id": "aqtVhIna9N-3"
      }
    }
  ],
  "metadata": {
    "colab": {
      "provenance": []
    },
    "kernelspec": {
      "display_name": "Python 3",
      "name": "python3"
    },
    "language_info": {
      "name": "python"
    }
  },
  "nbformat": 4,
  "nbformat_minor": 0
}